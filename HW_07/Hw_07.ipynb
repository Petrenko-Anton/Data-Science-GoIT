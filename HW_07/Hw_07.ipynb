{
 "cells": [
  {
   "cell_type": "code",
   "execution_count": 5,
   "metadata": {},
   "outputs": [],
   "source": [
    "import numpy as np\n",
    "import pandas as pd\n",
    "from surprise import SVD, SVDpp, NMF, KNNBasic, KNNWithMeans, Dataset, Reader\n",
    "from surprise.model_selection import cross_validate\n",
    "from pathlib import Path\n",
    "%matplotlib inline"
   ]
  },
  {
   "cell_type": "code",
   "execution_count": 6,
   "metadata": {},
   "outputs": [],
   "source": [
    "# Load the movielens-100k dataset (download it if needed).\n",
    "file_path = Path(\"data/ratings.csv\")\n",
    "reader = Reader(line_format=\"user item rating timestamp\", sep=\",\", skip_lines=1)\n",
    "\n",
    "data = Dataset.load_from_file(file_path, reader=reader)"
   ]
  },
  {
   "cell_type": "code",
   "execution_count": 7,
   "metadata": {},
   "outputs": [
    {
     "name": "stdout",
     "output_type": "stream",
     "text": [
      "Evaluating RMSE, MAE, MSE, FCP of algorithm SVD on 3 split(s).\n",
      "\n",
      "                  Fold 1  Fold 2  Fold 3  Mean    Std     \n",
      "RMSE (testset)    0.8739  0.8834  0.8844  0.8805  0.0047  \n",
      "MAE (testset)     0.6746  0.6769  0.6803  0.6773  0.0023  \n",
      "MSE (testset)     0.7637  0.7803  0.7822  0.7754  0.0083  \n",
      "FCP (testset)     0.6551  0.6551  0.6583  0.6562  0.0015  \n",
      "Fit time          0.98    0.93    0.92    0.94    0.02    \n",
      "Test time         0.26    0.17    0.26    0.23    0.04    \n"
     ]
    },
    {
     "data": {
      "text/plain": [
       "{'test_rmse': array([0.87389596, 0.88335647, 0.88439653]),\n",
       " 'test_mae': array([0.67460687, 0.67686601, 0.68029769]),\n",
       " 'test_mse': array([0.76369414, 0.78031866, 0.78215722]),\n",
       " 'test_fcp': array([0.65512634, 0.65506681, 0.65827833]),\n",
       " 'fit_time': (0.975332498550415, 0.9340012073516846, 0.9169638156890869),\n",
       " 'test_time': (0.2558741569519043, 0.17200016975402832, 0.261005163192749)}"
      ]
     },
     "execution_count": 7,
     "metadata": {},
     "output_type": "execute_result"
    }
   ],
   "source": [
    "# Use the famous SVD algorithm.\n",
    "algo = SVD()\n",
    "\n",
    "# Run 3-fold cross-validation and print results.\n",
    "cross_validate(algo, data, measures=[\"RMSE\", \"MAE\", \"MSE\", \"FCP\"], cv=3, verbose=True)"
   ]
  },
  {
   "cell_type": "code",
   "execution_count": 8,
   "metadata": {},
   "outputs": [
    {
     "name": "stdout",
     "output_type": "stream",
     "text": [
      "Evaluating RMSE, MAE, MSE, FCP of algorithm SVDpp on 3 split(s).\n",
      "\n",
      "                  Fold 1  Fold 2  Fold 3  Mean    Std     \n",
      "RMSE (testset)    0.8659  0.8711  0.8744  0.8705  0.0035  \n",
      "MAE (testset)     0.6641  0.6714  0.6692  0.6682  0.0031  \n",
      "MSE (testset)     0.7498  0.7589  0.7645  0.7577  0.0061  \n",
      "FCP (testset)     0.6748  0.6670  0.6672  0.6697  0.0036  \n",
      "Fit time          49.80   50.66   51.04   50.50   0.52    \n",
      "Test time         10.92   10.95   10.98   10.95   0.03    \n"
     ]
    },
    {
     "data": {
      "text/plain": [
       "{'test_rmse': array([0.86589114, 0.87113652, 0.87437181]),\n",
       " 'test_mae': array([0.66408223, 0.67142816, 0.66921143]),\n",
       " 'test_mse': array([0.74976746, 0.75887884, 0.76452605]),\n",
       " 'test_fcp': array([0.67483448, 0.6670234 , 0.66721798]),\n",
       " 'fit_time': (49.80033588409424, 50.659149408340454, 51.03813600540161),\n",
       " 'test_time': (10.91694951057434, 10.951996564865112, 10.98100233078003)}"
      ]
     },
     "execution_count": 8,
     "metadata": {},
     "output_type": "execute_result"
    }
   ],
   "source": [
    "algo = SVDpp()\n",
    "\n",
    "# Run 5-fold cross-validation and print results.\n",
    "cross_validate(algo, data, measures=[\"RMSE\", \"MAE\", \"MSE\", \"FCP\"], cv=3, verbose=True)"
   ]
  },
  {
   "cell_type": "code",
   "execution_count": 9,
   "metadata": {},
   "outputs": [
    {
     "name": "stdout",
     "output_type": "stream",
     "text": [
      "Evaluating RMSE, MAE, MSE, FCP of algorithm NMF on 3 split(s).\n",
      "\n",
      "                  Fold 1  Fold 2  Fold 3  Mean    Std     \n",
      "RMSE (testset)    0.9456  0.9263  0.9318  0.9346  0.0081  \n",
      "MAE (testset)     0.7237  0.7121  0.7154  0.7171  0.0049  \n",
      "MSE (testset)     0.8942  0.8581  0.8682  0.8735  0.0152  \n",
      "FCP (testset)     0.6410  0.6480  0.6526  0.6472  0.0048  \n",
      "Fit time          1.67    1.75    1.77    1.73    0.04    \n",
      "Test time         0.22    0.23    0.16    0.20    0.03    \n"
     ]
    },
    {
     "data": {
      "text/plain": [
       "{'test_rmse': array([0.94562316, 0.92633689, 0.93176693]),\n",
       " 'test_mae': array([0.72365951, 0.71208303, 0.71541271]),\n",
       " 'test_mse': array([0.89420316, 0.85810002, 0.86818961]),\n",
       " 'test_fcp': array([0.64097546, 0.64800229, 0.65263545]),\n",
       " 'fit_time': (1.6720399856567383, 1.7500379085540771, 1.7690293788909912),\n",
       " 'test_time': (0.22499847412109375, 0.2299644947052002, 0.1569836139678955)}"
      ]
     },
     "execution_count": 9,
     "metadata": {},
     "output_type": "execute_result"
    }
   ],
   "source": [
    "algo = NMF()\n",
    "\n",
    "cross_validate(algo, data, measures=[\"RMSE\", \"MAE\", \"MSE\", \"FCP\"], cv=3, verbose=True)"
   ]
  },
  {
   "cell_type": "code",
   "execution_count": 10,
   "metadata": {},
   "outputs": [
    {
     "name": "stdout",
     "output_type": "stream",
     "text": [
      "Computing the msd similarity matrix...\n",
      "Done computing similarity matrix.\n",
      "Computing the msd similarity matrix...\n",
      "Done computing similarity matrix.\n",
      "Computing the msd similarity matrix...\n",
      "Done computing similarity matrix.\n",
      "Evaluating RMSE, MAE, MSE, FCP of algorithm KNNBasic on 3 split(s).\n",
      "\n",
      "                  Fold 1  Fold 2  Fold 3  Mean    Std     \n",
      "RMSE (testset)    0.9581  0.9628  0.9543  0.9584  0.0035  \n",
      "MAE (testset)     0.7369  0.7365  0.7330  0.7355  0.0018  \n",
      "MSE (testset)     0.9180  0.9270  0.9107  0.9186  0.0067  \n",
      "FCP (testset)     0.6719  0.6756  0.6718  0.6731  0.0018  \n",
      "Fit time          0.16    0.17    0.17    0.17    0.00    \n",
      "Test time         1.57    1.58    1.51    1.56    0.03    \n"
     ]
    },
    {
     "data": {
      "text/plain": [
       "{'test_rmse': array([0.95813286, 0.96280057, 0.95430541]),\n",
       " 'test_mae': array([0.736938  , 0.73654125, 0.7330207 ]),\n",
       " 'test_mse': array([0.91801857, 0.92698493, 0.91069881]),\n",
       " 'test_fcp': array([0.67187065, 0.67557989, 0.6717577 ]),\n",
       " 'fit_time': (0.16403651237487793, 0.166001558303833, 0.16899895668029785),\n",
       " 'test_time': (1.5709967613220215, 1.581005334854126, 1.513993263244629)}"
      ]
     },
     "execution_count": 10,
     "metadata": {},
     "output_type": "execute_result"
    }
   ],
   "source": [
    "algo = KNNBasic()\n",
    "\n",
    "cross_validate(algo, data, measures=[\"RMSE\", \"MAE\", \"MSE\", \"FCP\"], cv=3, verbose=True)"
   ]
  },
  {
   "cell_type": "code",
   "execution_count": 11,
   "metadata": {},
   "outputs": [
    {
     "name": "stdout",
     "output_type": "stream",
     "text": [
      "Computing the msd similarity matrix...\n",
      "Done computing similarity matrix.\n",
      "Computing the msd similarity matrix...\n",
      "Done computing similarity matrix.\n",
      "Computing the msd similarity matrix...\n",
      "Done computing similarity matrix.\n",
      "Evaluating RMSE, MAE, MSE, FCP of algorithm KNNWithMeans on 3 split(s).\n",
      "\n",
      "                  Fold 1  Fold 2  Fold 3  Mean    Std     \n",
      "RMSE (testset)    0.9013  0.9033  0.9077  0.9041  0.0027  \n",
      "MAE (testset)     0.6888  0.6904  0.6931  0.6908  0.0018  \n",
      "MSE (testset)     0.8123  0.8160  0.8238  0.8174  0.0048  \n",
      "FCP (testset)     0.6430  0.6501  0.6517  0.6483  0.0038  \n",
      "Fit time          0.21    0.19    0.19    0.20    0.01    \n",
      "Test time         1.97    1.81    1.71    1.83    0.11    \n"
     ]
    },
    {
     "data": {
      "text/plain": [
       "{'test_rmse': array([0.90129563, 0.90333879, 0.90765513]),\n",
       " 'test_mae': array([0.68881639, 0.69043427, 0.69314815]),\n",
       " 'test_mse': array([0.81233381, 0.81602098, 0.82383784]),\n",
       " 'test_fcp': array([0.64304959, 0.65014449, 0.65172003]),\n",
       " 'fit_time': (0.20799732208251953, 0.18799734115600586, 0.19300270080566406),\n",
       " 'test_time': (1.9669997692108154, 1.8100016117095947, 1.7069919109344482)}"
      ]
     },
     "execution_count": 11,
     "metadata": {},
     "output_type": "execute_result"
    }
   ],
   "source": [
    "algo = KNNWithMeans()\n",
    "\n",
    "cross_validate(algo, data, measures=[\"RMSE\", \"MAE\", \"MSE\", \"FCP\"], cv=3, verbose=True)"
   ]
  },
  {
   "cell_type": "markdown",
   "metadata": {},
   "source": [
    "найменші знацення помилок показав алгоритм SVD, також він найшвидший."
   ]
  },
  {
   "cell_type": "code",
   "execution_count": 21,
   "metadata": {},
   "outputs": [
    {
     "name": "stderr",
     "output_type": "stream",
     "text": [
      "TPE is being used as the default algorithm.\n"
     ]
    },
    {
     "name": "stdout",
     "output_type": "stream",
     "text": [
      "100%|██████████| 5/5 [00:43<00:00,  8.61s/trial, best loss: 0.856597275758792] \n"
     ]
    }
   ],
   "source": [
    "from hyperopt import hp, fmin\n",
    "\n",
    "param_svd = {\n",
    "    \"n_factors\": hp.choice(\"n_factors\", [50, 100, 150]),\n",
    "    \"n_epochs\": hp.choice(\"n_epochs\", [10, 20, 30]),\n",
    "    \"lr_all\": hp.uniform(\"lr_all\", 0.001, 0.1),\n",
    "    \"reg_all\": hp.uniform(\"reg_all\", 0.01, 0.2),\n",
    "    \"random_state\": hp.choice(\"random_state\", [42, 123, 567]),  # Виберіть кілька варіантів для random_state\n",
    "}\n",
    "\n",
    "\n",
    "\n",
    "def func_svd(params):\n",
    "    model = SVD(**params)\n",
    "    results = cross_validate(model, data, measures=[\"RMSE\"], cv=5, verbose=False)\n",
    "    return results['test_rmse'].mean()\n",
    "\n",
    "\n",
    "best_params = fmin(fn=func_svd, space=param_svd, max_evals=5)"
   ]
  },
  {
   "cell_type": "code",
   "execution_count": 22,
   "metadata": {},
   "outputs": [
    {
     "data": {
      "text/plain": [
       "{'lr_all': 0.012396994805425238,\n",
       " 'n_epochs': 1,\n",
       " 'n_factors': 2,\n",
       " 'random_state': 0,\n",
       " 'reg_all': 0.08346997326592481}"
      ]
     },
     "execution_count": 22,
     "metadata": {},
     "output_type": "execute_result"
    }
   ],
   "source": [
    "best_params"
   ]
  }
 ],
 "metadata": {
  "kernelspec": {
   "display_name": "Python 3",
   "language": "python",
   "name": "python3"
  },
  "language_info": {
   "codemirror_mode": {
    "name": "ipython",
    "version": 3
   },
   "file_extension": ".py",
   "mimetype": "text/x-python",
   "name": "python",
   "nbconvert_exporter": "python",
   "pygments_lexer": "ipython3",
   "version": "3.11.3"
  }
 },
 "nbformat": 4,
 "nbformat_minor": 2
}
