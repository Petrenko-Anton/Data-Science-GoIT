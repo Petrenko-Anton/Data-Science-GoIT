{
  "nbformat": 4,
  "nbformat_minor": 0,
  "metadata": {
    "colab": {
      "provenance": [],
      "gpuType": "T4",
      "authorship_tag": "ABX9TyPUhIlJTCE5dG3XmXzAi8qL",
      "include_colab_link": true
    },
    "kernelspec": {
      "name": "python3",
      "display_name": "Python 3"
    },
    "language_info": {
      "name": "python"
    },
    "accelerator": "GPU"
  },
  "cells": [
    {
      "cell_type": "markdown",
      "metadata": {
        "id": "view-in-github",
        "colab_type": "text"
      },
      "source": [
        "<a href=\"https://colab.research.google.com/github/Petrenko-Anton/Data-Science-GoIT/blob/main/HW_10_02.ipynb\" target=\"_parent\"><img src=\"https://colab.research.google.com/assets/colab-badge.svg\" alt=\"Open In Colab\"/></a>"
      ]
    },
    {
      "cell_type": "code",
      "execution_count": 4,
      "metadata": {
        "id": "qE_lbsy--gTH"
      },
      "outputs": [],
      "source": [
        "import matplotlib.pyplot as plt\n",
        "import tensorflow as tf\n",
        "import numpy as np\n",
        "from keras.models import Sequential\n",
        "from keras.layers import Input, Dense, Flatten, Conv2D, MaxPooling2D, Dropout, ZeroPadding2D\n",
        "from keras import optimizers"
      ]
    },
    {
      "cell_type": "code",
      "source": [
        "from keras.datasets import fashion_mnist\n",
        "from tensorflow.keras.utils import to_categorical\n",
        "\n",
        "(train_images, train_labels), (test_images, test_labels) = fashion_mnist.load_data()"
      ],
      "metadata": {
        "id": "cKQEGEiG_Sy4"
      },
      "execution_count": 5,
      "outputs": []
    },
    {
      "cell_type": "code",
      "source": [
        "class_names = [\n",
        "    \"T-shirt/top\",\n",
        "    \"Trouser\",\n",
        "    \"Pullover\",\n",
        "    \"Dress\",\n",
        "    \"Coat\",\n",
        "    \"Sandal\",\n",
        "    \"Shirt\",\n",
        "    \"Sneaker\",\n",
        "    \"Bag\",\n",
        "    \"Ankle boot\",\n",
        "]"
      ],
      "metadata": {
        "id": "YRjLfOix_srP"
      },
      "execution_count": 84,
      "outputs": []
    },
    {
      "cell_type": "code",
      "source": [
        "# Структура дещо модифікована під наші умови - мале зображення 28х28, чорнобіле, останні 3 згортки 512 убрані, бо розмірність вже досягла 1 пикселя\n",
        "def VGG_16():\n",
        "    model = Sequential()\n",
        "    model.add(ZeroPadding2D((1, 1), input_shape=(28, 28, 1)))\n",
        "    model.add(Conv2D(64, (3, 3), activation=\"relu\"))\n",
        "\n",
        "    model.add(Conv2D(64, (3, 3), activation=\"relu\", padding=\"same\"))\n",
        "    model.add(MaxPooling2D((2,2)))\n",
        "\n",
        "\n",
        "    model.add(Conv2D(128, (3, 3), activation=\"relu\", padding=\"same\"))\n",
        "\n",
        "    model.add(Conv2D(128, (3, 3), activation=\"relu\", padding=\"same\"))\n",
        "    model.add(MaxPooling2D((2, 2)))\n",
        "\n",
        "\n",
        "    model.add(Conv2D(256, (3, 3), activation=\"relu\", padding=\"same\"))\n",
        "\n",
        "    model.add(Conv2D(256, (3, 3), activation=\"relu\", padding=\"same\"))\n",
        "\n",
        "    model.add(Conv2D(256, (3, 3), activation=\"relu\", padding=\"same\"))\n",
        "    model.add(MaxPooling2D((2, 2)))\n",
        "\n",
        "\n",
        "    model.add(Conv2D(512, (3, 3), activation=\"relu\", padding=\"same\"))\n",
        "\n",
        "    model.add(Conv2D(512, (3, 3), activation=\"relu\", padding=\"same\"))\n",
        "\n",
        "    model.add(Conv2D(512, (3, 3), activation=\"relu\", padding=\"same\"))\n",
        "    model.add(MaxPooling2D((2, 2)))\n",
        "\n",
        "\n",
        "    model.add(Flatten())\n",
        "\n",
        "    model.add(Dense(512, activation=\"relu\"))\n",
        "    model.add(Dropout(0.2))\n",
        "    model.add(Dense(256, activation=\"relu\"))\n",
        "    model.add(Dropout(0.2))\n",
        "    model.add(Dense(10, activation=\"softmax\"))\n",
        "\n",
        "    return model"
      ],
      "metadata": {
        "id": "0OY4DpEAAyNy"
      },
      "execution_count": 36,
      "outputs": []
    },
    {
      "cell_type": "code",
      "source": [
        "model = VGG_16()\n",
        "model.summary()"
      ],
      "metadata": {
        "colab": {
          "base_uri": "https://localhost:8080/"
        },
        "id": "GJHQ6R-xA1g9",
        "outputId": "8bce10ab-a65c-4ed9-b2e3-3e7a0d604525"
      },
      "execution_count": 37,
      "outputs": [
        {
          "output_type": "stream",
          "name": "stdout",
          "text": [
            "Model: \"sequential_5\"\n",
            "_________________________________________________________________\n",
            " Layer (type)                Output Shape              Param #   \n",
            "=================================================================\n",
            " zero_padding2d_5 (ZeroPadd  (None, 30, 30, 1)         0         \n",
            " ing2D)                                                          \n",
            "                                                                 \n",
            " conv2d_50 (Conv2D)          (None, 28, 28, 64)        640       \n",
            "                                                                 \n",
            " conv2d_51 (Conv2D)          (None, 28, 28, 64)        36928     \n",
            "                                                                 \n",
            " max_pooling2d_20 (MaxPooli  (None, 14, 14, 64)        0         \n",
            " ng2D)                                                           \n",
            "                                                                 \n",
            " conv2d_52 (Conv2D)          (None, 14, 14, 128)       73856     \n",
            "                                                                 \n",
            " conv2d_53 (Conv2D)          (None, 14, 14, 128)       147584    \n",
            "                                                                 \n",
            " max_pooling2d_21 (MaxPooli  (None, 7, 7, 128)         0         \n",
            " ng2D)                                                           \n",
            "                                                                 \n",
            " conv2d_54 (Conv2D)          (None, 7, 7, 256)         295168    \n",
            "                                                                 \n",
            " conv2d_55 (Conv2D)          (None, 7, 7, 256)         590080    \n",
            "                                                                 \n",
            " conv2d_56 (Conv2D)          (None, 7, 7, 256)         590080    \n",
            "                                                                 \n",
            " max_pooling2d_22 (MaxPooli  (None, 3, 3, 256)         0         \n",
            " ng2D)                                                           \n",
            "                                                                 \n",
            " conv2d_57 (Conv2D)          (None, 3, 3, 512)         1180160   \n",
            "                                                                 \n",
            " conv2d_58 (Conv2D)          (None, 3, 3, 512)         2359808   \n",
            "                                                                 \n",
            " conv2d_59 (Conv2D)          (None, 3, 3, 512)         2359808   \n",
            "                                                                 \n",
            " max_pooling2d_23 (MaxPooli  (None, 1, 1, 512)         0         \n",
            " ng2D)                                                           \n",
            "                                                                 \n",
            " flatten_5 (Flatten)         (None, 512)               0         \n",
            "                                                                 \n",
            " dense_15 (Dense)            (None, 512)               262656    \n",
            "                                                                 \n",
            " dropout_10 (Dropout)        (None, 512)               0         \n",
            "                                                                 \n",
            " dense_16 (Dense)            (None, 256)               131328    \n",
            "                                                                 \n",
            " dropout_11 (Dropout)        (None, 256)               0         \n",
            "                                                                 \n",
            " dense_17 (Dense)            (None, 10)                2570      \n",
            "                                                                 \n",
            "=================================================================\n",
            "Total params: 8030666 (30.63 MB)\n",
            "Trainable params: 8030666 (30.63 MB)\n",
            "Non-trainable params: 0 (0.00 Byte)\n",
            "_________________________________________________________________\n"
          ]
        }
      ]
    },
    {
      "cell_type": "code",
      "source": [
        "from tensorflow.keras.callbacks import EarlyStopping\n",
        "\n",
        "early_stopping = EarlyStopping(\n",
        "    monitor=\"val_accuracy\",\n",
        "    patience=1,\n",
        "    mode=\"max\",\n",
        "    baseline=0.925,\n",
        "    restore_best_weights=True,\n",
        "    start_from_epoch=5,\n",
        "    verbose=1\n",
        ")\n",
        "\n",
        "model.compile(optimizer=\"Adam\", loss='categorical_crossentropy', metrics=[\"accuracy\"])\n",
        "\n",
        "train_images = train_images.reshape((60000, 28, 28, 1))\n",
        "train_images = train_images.astype(\"float32\") / 255\n",
        "test_images = test_images.reshape((10000, 28, 28, 1))\n",
        "test_images = test_images.astype(\"float32\") / 255\n",
        "train_labels = to_categorical(train_labels)\n",
        "test_labels = to_categorical(test_labels)\n",
        "\n",
        "history = model.fit(train_images, train_labels, callbacks=[early_stopping], epochs=20, batch_size=128, validation_data=(test_images, test_labels))"
      ],
      "metadata": {
        "colab": {
          "base_uri": "https://localhost:8080/"
        },
        "id": "UeGVTglRBPCm",
        "outputId": "cc63f892-a384-441a-9cb2-a9fdcf849472"
      },
      "execution_count": 38,
      "outputs": [
        {
          "output_type": "stream",
          "name": "stdout",
          "text": [
            "Epoch 1/20\n",
            "469/469 [==============================] - 23s 42ms/step - loss: 0.6421 - accuracy: 0.7582 - val_loss: 0.3868 - val_accuracy: 0.8524\n",
            "Epoch 2/20\n",
            "469/469 [==============================] - 20s 42ms/step - loss: 0.3177 - accuracy: 0.8878 - val_loss: 0.3110 - val_accuracy: 0.8905\n",
            "Epoch 3/20\n",
            "469/469 [==============================] - 20s 42ms/step - loss: 0.2630 - accuracy: 0.9065 - val_loss: 0.2650 - val_accuracy: 0.9011\n",
            "Epoch 4/20\n",
            "469/469 [==============================] - 20s 43ms/step - loss: 0.2275 - accuracy: 0.9188 - val_loss: 0.2534 - val_accuracy: 0.9155\n",
            "Epoch 5/20\n",
            "469/469 [==============================] - 20s 42ms/step - loss: 0.2033 - accuracy: 0.9284 - val_loss: 0.2362 - val_accuracy: 0.9163\n",
            "Epoch 6/20\n",
            "469/469 [==============================] - 20s 42ms/step - loss: 0.1876 - accuracy: 0.9334 - val_loss: 0.2393 - val_accuracy: 0.9153\n",
            "Epoch 7/20\n",
            "469/469 [==============================] - 19s 42ms/step - loss: 0.1711 - accuracy: 0.9397 - val_loss: 0.2235 - val_accuracy: 0.9251\n",
            "Epoch 8/20\n",
            "469/469 [==============================] - 19s 41ms/step - loss: 0.1556 - accuracy: 0.9453 - val_loss: 0.2466 - val_accuracy: 0.9219\n",
            "Epoch 9/20\n",
            "469/469 [==============================] - 21s 44ms/step - loss: 0.1478 - accuracy: 0.9484 - val_loss: 0.2298 - val_accuracy: 0.9189\n",
            "Epoch 10/20\n",
            "469/469 [==============================] - 20s 44ms/step - loss: 0.1291 - accuracy: 0.9543 - val_loss: 0.2417 - val_accuracy: 0.9235\n",
            "Epoch 11/20\n",
            "469/469 [==============================] - 20s 42ms/step - loss: 0.1256 - accuracy: 0.9559 - val_loss: 0.2573 - val_accuracy: 0.9254\n",
            "Epoch 12/20\n",
            "469/469 [==============================] - 20s 43ms/step - loss: 0.1125 - accuracy: 0.9608 - val_loss: 0.2353 - val_accuracy: 0.9255\n",
            "Epoch 13/20\n",
            "469/469 [==============================] - 19s 41ms/step - loss: 0.1026 - accuracy: 0.9638 - val_loss: 0.3059 - val_accuracy: 0.9244\n",
            "Epoch 14/20\n",
            "469/469 [==============================] - 20s 42ms/step - loss: 0.0825 - accuracy: 0.9712 - val_loss: 0.2824 - val_accuracy: 0.9268\n",
            "Epoch 15/20\n",
            "469/469 [==============================] - 20s 42ms/step - loss: 0.0880 - accuracy: 0.9704 - val_loss: 0.2906 - val_accuracy: 0.9191\n",
            "Epoch 16/20\n",
            "469/469 [==============================] - 21s 45ms/step - loss: 0.0864 - accuracy: 0.9702 - val_loss: 0.2881 - val_accuracy: 0.9249\n",
            "Epoch 17/20\n",
            "469/469 [==============================] - 20s 42ms/step - loss: 0.0738 - accuracy: 0.9751 - val_loss: 0.3531 - val_accuracy: 0.9243\n",
            "Epoch 18/20\n",
            "469/469 [==============================] - 20s 42ms/step - loss: 0.0672 - accuracy: 0.9774 - val_loss: 0.2870 - val_accuracy: 0.9221\n",
            "Epoch 19/20\n",
            "469/469 [==============================] - 19s 41ms/step - loss: 0.0770 - accuracy: 0.9742 - val_loss: 0.3390 - val_accuracy: 0.9239\n",
            "Epoch 20/20\n",
            "469/469 [==============================] - 19s 41ms/step - loss: 0.0553 - accuracy: 0.9824 - val_loss: 0.3712 - val_accuracy: 0.9222\n"
          ]
        }
      ]
    },
    {
      "cell_type": "code",
      "source": [
        "test_loss, test_acc = model.evaluate(test_images, test_labels)\n",
        "print(f\"\\nТочність на тестовому наборі даних: {test_acc * 100:.2f}%\")"
      ],
      "metadata": {
        "colab": {
          "base_uri": "https://localhost:8080/"
        },
        "id": "ta1UfHOGCibv",
        "outputId": "7000fded-f4ac-4230-d08a-0ce9f7ba00ac"
      },
      "execution_count": 39,
      "outputs": [
        {
          "output_type": "stream",
          "name": "stdout",
          "text": [
            "313/313 [==============================] - 2s 7ms/step - loss: 0.3712 - accuracy: 0.9222\n",
            "\n",
            "Точність на тестовому наборі даних: 92.22%\n"
          ]
        }
      ]
    },
    {
      "cell_type": "code",
      "source": [
        "test_labels = np.argmax(test_labels, axis=1)"
      ],
      "metadata": {
        "id": "8O_fKmohY6p7"
      },
      "execution_count": 21,
      "outputs": []
    },
    {
      "cell_type": "code",
      "source": [
        "# Візуалізація передбачень моделі\n",
        "\n",
        "plt.figure(figsize=(10, 11))\n",
        "random_indices = np.random.choice(10000, size=25, replace=False)\n",
        "\n",
        "for i, idx in enumerate(random_indices):\n",
        "    plt.subplot(5, 5, i + 1)\n",
        "    plt.xticks([])\n",
        "    plt.yticks([])\n",
        "    plt.grid(False)\n",
        "\n",
        "    # Передбачення за допомогою натренованої моделі\n",
        "    prediction = model.predict(np.expand_dims(test_images[idx], axis=0))[0]\n",
        "    predicted_label = class_names[np.argmax(prediction)]\n",
        "    true_label = class_names[test_labels[idx]]\n",
        "    (label_color, cmap) = (\"green\", \"binary\") if true_label == predicted_label else (\"red\", \"gray\")\n",
        "    plt.imshow(test_images[idx], cmap=cmap)\n",
        "    plt.xlabel(f\"True: {true_label}\\nPredicted: {predicted_label}\", color=label_color)\n",
        "plt.show()"
      ],
      "metadata": {
        "colab": {
          "base_uri": "https://localhost:8080/",
          "height": 1000
        },
        "id": "2DWyH59CY8D3",
        "outputId": "0a0ebd74-126e-40dc-8434-b8dbcac2a486"
      },
      "execution_count": 23,
      "outputs": [
        {
          "output_type": "stream",
          "name": "stdout",
          "text": [
            "1/1 [==============================] - 0s 19ms/step\n",
            "1/1 [==============================] - 0s 18ms/step\n",
            "1/1 [==============================] - 0s 17ms/step\n",
            "1/1 [==============================] - 0s 21ms/step\n",
            "1/1 [==============================] - 0s 20ms/step\n",
            "1/1 [==============================] - 0s 18ms/step\n",
            "1/1 [==============================] - 0s 18ms/step\n",
            "1/1 [==============================] - 0s 17ms/step\n",
            "1/1 [==============================] - 0s 20ms/step\n",
            "1/1 [==============================] - 0s 20ms/step\n",
            "1/1 [==============================] - 0s 18ms/step\n",
            "1/1 [==============================] - 0s 17ms/step\n",
            "1/1 [==============================] - 0s 22ms/step\n",
            "1/1 [==============================] - 0s 17ms/step\n",
            "1/1 [==============================] - 0s 19ms/step\n",
            "1/1 [==============================] - 0s 19ms/step\n",
            "1/1 [==============================] - 0s 23ms/step\n",
            "1/1 [==============================] - 0s 20ms/step\n",
            "1/1 [==============================] - 0s 19ms/step\n",
            "1/1 [==============================] - 0s 20ms/step\n",
            "1/1 [==============================] - 0s 18ms/step\n",
            "1/1 [==============================] - 0s 18ms/step\n",
            "1/1 [==============================] - 0s 21ms/step\n",
            "1/1 [==============================] - 0s 18ms/step\n",
            "1/1 [==============================] - 0s 17ms/step\n"
          ]
        },
        {
          "output_type": "display_data",
          "data": {
            "text/plain": [
              "<Figure size 1000x1100 with 25 Axes>"
            ],
            "image/png": "[encoded data removed]"
          },
          "metadata": {}
        }
      ]
    },
    {
      "cell_type": "markdown",
      "source": [
        "Таким чином, використання VGG16 дало змогу збільшити точність з 91,88% в попередньому ноутбуці до 92,22% (всього на 0,34%)\n"
      ],
      "metadata": {
        "id": "8bP0RMEayZAO"
      }
    },
    {
      "cell_type": "code",
      "source": [
        "# спробуємо вбудовану в Keras VGG16 попередньо навчену на imagenet\n",
        "from keras.applications import VGG16\n",
        "conv_base = VGG16(weights=\"imagenet\", include_top=False,\n",
        "    input_tensor=Input(shape=(32, 32, 3)))\n",
        "conv_base.trainable = False\n",
        "\n",
        "def VGG_16_Keras():\n",
        "\n",
        "    model = Sequential()\n",
        "    model.add(conv_base)\n",
        "    model.add(Flatten())\n",
        "\n",
        "    model.add(Dense(512, activation=\"relu\"))\n",
        "    model.add(Dropout(0.2))\n",
        "    model.add(Dense(256, activation=\"relu\"))\n",
        "    model.add(Dropout(0.2))\n",
        "    model.add(Dense(10, activation=\"softmax\"))\n",
        "\n",
        "    return model\n"
      ],
      "metadata": {
        "id": "PyBqt2P4y79y"
      },
      "execution_count": 6,
      "outputs": []
    },
    {
      "cell_type": "code",
      "source": [
        "def prepare(images):\n",
        "    images = np.stack((images,) * 3, axis=-1)\n",
        "    images = images.astype(\"float32\") / 255.0\n",
        "    images = tf.image.resize(images, (32, 32))\n",
        "    return images\n",
        "\n",
        "(train_images, train_labels), (test_images, test_labels) = fashion_mnist.load_data()\n",
        "\n",
        "train_images = prepare(train_images)\n",
        "test_images = prepare(test_images)"
      ],
      "metadata": {
        "id": "w6mvW0xLzkr_"
      },
      "execution_count": 7,
      "outputs": []
    },
    {
      "cell_type": "code",
      "source": [
        "model_1 = VGG_16_Keras()\n",
        "model_1.compile(\n",
        "    optimizer=tf.keras.optimizers.Adam(learning_rate=1e-4),\n",
        "    loss='sparse_categorical_crossentropy',\n",
        "    metrics=['accuracy'])\n",
        "model_1.build(input_shape=(32,32,3))\n",
        "model_1.summary()\n",
        ""
      ],
      "metadata": {
        "colab": {
          "base_uri": "https://localhost:8080/"
        },
        "id": "9FfiucsN0nT6",
        "outputId": "ab7ab2a4-5b5d-49ce-a3b6-1c057034599f"
      },
      "execution_count": 8,
      "outputs": [
        {
          "output_type": "stream",
          "name": "stdout",
          "text": [
            "Model: \"sequential\"\n",
            "_________________________________________________________________\n",
            " Layer (type)                Output Shape              Param #   \n",
            "=================================================================\n",
            " vgg16 (Functional)          (None, 1, 1, 512)         14714688  \n",
            "                                                                 \n",
            " flatten (Flatten)           (None, 512)               0         \n",
            "                                                                 \n",
            " dense (Dense)               (None, 512)               262656    \n",
            "                                                                 \n",
            " dropout (Dropout)           (None, 512)               0         \n",
            "                                                                 \n",
            " dense_1 (Dense)             (None, 256)               131328    \n",
            "                                                                 \n",
            " dropout_1 (Dropout)         (None, 256)               0         \n",
            "                                                                 \n",
            " dense_2 (Dense)             (None, 10)                2570      \n",
            "                                                                 \n",
            "=================================================================\n",
            "Total params: 15111242 (57.64 MB)\n",
            "Trainable params: 396554 (1.51 MB)\n",
            "Non-trainable params: 14714688 (56.13 MB)\n",
            "_________________________________________________________________\n"
          ]
        }
      ]
    },
    {
      "cell_type": "code",
      "source": [
        "history = model_1.fit(train_images, train_labels, callbacks=[early_stopping], epochs=20, batch_size=128, validation_data=(test_images, test_labels))"
      ],
      "metadata": {
        "colab": {
          "base_uri": "https://localhost:8080/"
        },
        "id": "fIixAzmh29x2",
        "outputId": "ea707db2-3eba-4633-d2c1-30c9169d23e2"
      },
      "execution_count": 93,
      "outputs": [
        {
          "output_type": "stream",
          "name": "stdout",
          "text": [
            "Epoch 1/20\n",
            "469/469 [==============================] - 11s 20ms/step - loss: 0.9605 - accuracy: 0.6729 - val_loss: 0.5772 - val_accuracy: 0.7960\n",
            "Epoch 2/20\n",
            "469/469 [==============================] - 9s 20ms/step - loss: 0.5664 - accuracy: 0.7975 - val_loss: 0.4954 - val_accuracy: 0.8215\n",
            "Epoch 3/20\n",
            "469/469 [==============================] - 9s 19ms/step - loss: 0.4992 - accuracy: 0.8201 - val_loss: 0.4550 - val_accuracy: 0.8348\n",
            "Epoch 4/20\n",
            "469/469 [==============================] - 9s 20ms/step - loss: 0.4625 - accuracy: 0.8324 - val_loss: 0.4367 - val_accuracy: 0.8414\n",
            "Epoch 5/20\n",
            "469/469 [==============================] - 9s 20ms/step - loss: 0.4351 - accuracy: 0.8408 - val_loss: 0.4168 - val_accuracy: 0.8494\n",
            "Epoch 6/20\n",
            "469/469 [==============================] - 10s 20ms/step - loss: 0.4158 - accuracy: 0.8476 - val_loss: 0.4064 - val_accuracy: 0.8512\n",
            "Epoch 7/20\n",
            "469/469 [==============================] - 10s 21ms/step - loss: 0.4005 - accuracy: 0.8548 - val_loss: 0.3959 - val_accuracy: 0.8554\n",
            "Epoch 8/20\n",
            "469/469 [==============================] - 10s 20ms/step - loss: 0.3891 - accuracy: 0.8578 - val_loss: 0.3914 - val_accuracy: 0.8561\n",
            "Epoch 9/20\n",
            "469/469 [==============================] - 9s 20ms/step - loss: 0.3763 - accuracy: 0.8611 - val_loss: 0.3838 - val_accuracy: 0.8597\n",
            "Epoch 10/20\n",
            "469/469 [==============================] - 9s 20ms/step - loss: 0.3676 - accuracy: 0.8651 - val_loss: 0.3817 - val_accuracy: 0.8623\n",
            "Epoch 11/20\n",
            "469/469 [==============================] - 10s 22ms/step - loss: 0.3611 - accuracy: 0.8684 - val_loss: 0.3716 - val_accuracy: 0.8660\n",
            "Epoch 12/20\n",
            "469/469 [==============================] - 12s 26ms/step - loss: 0.3512 - accuracy: 0.8711 - val_loss: 0.3675 - val_accuracy: 0.8660\n",
            "Epoch 13/20\n",
            "469/469 [==============================] - 9s 19ms/step - loss: 0.3420 - accuracy: 0.8747 - val_loss: 0.3661 - val_accuracy: 0.8660\n",
            "Epoch 14/20\n",
            "469/469 [==============================] - 9s 20ms/step - loss: 0.3364 - accuracy: 0.8770 - val_loss: 0.3607 - val_accuracy: 0.8696\n",
            "Epoch 15/20\n",
            "467/469 [============================>.] - ETA: 0s - loss: 0.3311 - accuracy: 0.8797Restoring model weights from the end of the best epoch: 14.\n",
            "469/469 [==============================] - 9s 20ms/step - loss: 0.3308 - accuracy: 0.8797 - val_loss: 0.3575 - val_accuracy: 0.8699\n",
            "Epoch 15: early stopping\n"
          ]
        }
      ]
    },
    {
      "cell_type": "markdown",
      "source": [
        "точність не достатня - 86,09%. Спробуємо провести донавчання"
      ],
      "metadata": {
        "id": "y7Hc_IXpAEWz"
      }
    },
    {
      "cell_type": "code",
      "source": [
        "conv_base.summary()"
      ],
      "metadata": {
        "colab": {
          "base_uri": "https://localhost:8080/"
        },
        "id": "J-bL5iizC93z",
        "outputId": "cedccc38-b9da-4827-80a1-a4ac5dacd9d6"
      },
      "execution_count": 9,
      "outputs": [
        {
          "output_type": "stream",
          "name": "stdout",
          "text": [
            "Model: \"vgg16\"\n",
            "_________________________________________________________________\n",
            " Layer (type)                Output Shape              Param #   \n",
            "=================================================================\n",
            " input_1 (InputLayer)        [(None, 32, 32, 3)]       0         \n",
            "                                                                 \n",
            " block1_conv1 (Conv2D)       (None, 32, 32, 64)        1792      \n",
            "                                                                 \n",
            " block1_conv2 (Conv2D)       (None, 32, 32, 64)        36928     \n",
            "                                                                 \n",
            " block1_pool (MaxPooling2D)  (None, 16, 16, 64)        0         \n",
            "                                                                 \n",
            " block2_conv1 (Conv2D)       (None, 16, 16, 128)       73856     \n",
            "                                                                 \n",
            " block2_conv2 (Conv2D)       (None, 16, 16, 128)       147584    \n",
            "                                                                 \n",
            " block2_pool (MaxPooling2D)  (None, 8, 8, 128)         0         \n",
            "                                                                 \n",
            " block3_conv1 (Conv2D)       (None, 8, 8, 256)         295168    \n",
            "                                                                 \n",
            " block3_conv2 (Conv2D)       (None, 8, 8, 256)         590080    \n",
            "                                                                 \n",
            " block3_conv3 (Conv2D)       (None, 8, 8, 256)         590080    \n",
            "                                                                 \n",
            " block3_pool (MaxPooling2D)  (None, 4, 4, 256)         0         \n",
            "                                                                 \n",
            " block4_conv1 (Conv2D)       (None, 4, 4, 512)         1180160   \n",
            "                                                                 \n",
            " block4_conv2 (Conv2D)       (None, 4, 4, 512)         2359808   \n",
            "                                                                 \n",
            " block4_conv3 (Conv2D)       (None, 4, 4, 512)         2359808   \n",
            "                                                                 \n",
            " block4_pool (MaxPooling2D)  (None, 2, 2, 512)         0         \n",
            "                                                                 \n",
            " block5_conv1 (Conv2D)       (None, 2, 2, 512)         2359808   \n",
            "                                                                 \n",
            " block5_conv2 (Conv2D)       (None, 2, 2, 512)         2359808   \n",
            "                                                                 \n",
            " block5_conv3 (Conv2D)       (None, 2, 2, 512)         2359808   \n",
            "                                                                 \n",
            " block5_pool (MaxPooling2D)  (None, 1, 1, 512)         0         \n",
            "                                                                 \n",
            "=================================================================\n",
            "Total params: 14714688 (56.13 MB)\n",
            "Trainable params: 0 (0.00 Byte)\n",
            "Non-trainable params: 14714688 (56.13 MB)\n",
            "_________________________________________________________________\n"
          ]
        }
      ]
    },
    {
      "cell_type": "code",
      "source": [
        "conv_base.trainable = True\n",
        "set_trainable = False\n",
        "for layer in conv_base.layers:\n",
        "    if layer.name == \"block5_conv1\":\n",
        "        set_trainable = True\n",
        "    if set_trainable:\n",
        "        layer.trainable = True\n",
        "    else:\n",
        "        layer.trainable = False"
      ],
      "metadata": {
        "id": "mACQEIdqDAD0"
      },
      "execution_count": 10,
      "outputs": []
    },
    {
      "cell_type": "code",
      "source": [
        "conv_base.summary()"
      ],
      "metadata": {
        "colab": {
          "base_uri": "https://localhost:8080/"
        },
        "id": "e6uykUiWGKKR",
        "outputId": "e067e6bb-04dc-4a13-e06c-a168d9b622fa"
      },
      "execution_count": 11,
      "outputs": [
        {
          "output_type": "stream",
          "name": "stdout",
          "text": [
            "Model: \"vgg16\"\n",
            "_________________________________________________________________\n",
            " Layer (type)                Output Shape              Param #   \n",
            "=================================================================\n",
            " input_1 (InputLayer)        [(None, 32, 32, 3)]       0         \n",
            "                                                                 \n",
            " block1_conv1 (Conv2D)       (None, 32, 32, 64)        1792      \n",
            "                                                                 \n",
            " block1_conv2 (Conv2D)       (None, 32, 32, 64)        36928     \n",
            "                                                                 \n",
            " block1_pool (MaxPooling2D)  (None, 16, 16, 64)        0         \n",
            "                                                                 \n",
            " block2_conv1 (Conv2D)       (None, 16, 16, 128)       73856     \n",
            "                                                                 \n",
            " block2_conv2 (Conv2D)       (None, 16, 16, 128)       147584    \n",
            "                                                                 \n",
            " block2_pool (MaxPooling2D)  (None, 8, 8, 128)         0         \n",
            "                                                                 \n",
            " block3_conv1 (Conv2D)       (None, 8, 8, 256)         295168    \n",
            "                                                                 \n",
            " block3_conv2 (Conv2D)       (None, 8, 8, 256)         590080    \n",
            "                                                                 \n",
            " block3_conv3 (Conv2D)       (None, 8, 8, 256)         590080    \n",
            "                                                                 \n",
            " block3_pool (MaxPooling2D)  (None, 4, 4, 256)         0         \n",
            "                                                                 \n",
            " block4_conv1 (Conv2D)       (None, 4, 4, 512)         1180160   \n",
            "                                                                 \n",
            " block4_conv2 (Conv2D)       (None, 4, 4, 512)         2359808   \n",
            "                                                                 \n",
            " block4_conv3 (Conv2D)       (None, 4, 4, 512)         2359808   \n",
            "                                                                 \n",
            " block4_pool (MaxPooling2D)  (None, 2, 2, 512)         0         \n",
            "                                                                 \n",
            " block5_conv1 (Conv2D)       (None, 2, 2, 512)         2359808   \n",
            "                                                                 \n",
            " block5_conv2 (Conv2D)       (None, 2, 2, 512)         2359808   \n",
            "                                                                 \n",
            " block5_conv3 (Conv2D)       (None, 2, 2, 512)         2359808   \n",
            "                                                                 \n",
            " block5_pool (MaxPooling2D)  (None, 1, 1, 512)         0         \n",
            "                                                                 \n",
            "=================================================================\n",
            "Total params: 14714688 (56.13 MB)\n",
            "Trainable params: 7079424 (27.01 MB)\n",
            "Non-trainable params: 7635264 (29.13 MB)\n",
            "_________________________________________________________________\n"
          ]
        }
      ]
    },
    {
      "cell_type": "code",
      "source": [
        "model_2 = VGG_16_Keras()\n",
        "model_2.compile(\n",
        "    optimizer=tf.keras.optimizers.Adam(learning_rate=1e-4),\n",
        "    loss='sparse_categorical_crossentropy',\n",
        "    metrics=['accuracy'])\n",
        "model_2.build(input_shape=(32,32,3))\n",
        "model_2.summary()"
      ],
      "metadata": {
        "colab": {
          "base_uri": "https://localhost:8080/"
        },
        "id": "dxxW3fJ3Du8p",
        "outputId": "3bce61b7-4265-4244-9bb2-6f9e25f4b54f"
      },
      "execution_count": 12,
      "outputs": [
        {
          "output_type": "stream",
          "name": "stdout",
          "text": [
            "Model: \"sequential_1\"\n",
            "_________________________________________________________________\n",
            " Layer (type)                Output Shape              Param #   \n",
            "=================================================================\n",
            " vgg16 (Functional)          (None, 1, 1, 512)         14714688  \n",
            "                                                                 \n",
            " flatten_1 (Flatten)         (None, 512)               0         \n",
            "                                                                 \n",
            " dense_3 (Dense)             (None, 512)               262656    \n",
            "                                                                 \n",
            " dropout_2 (Dropout)         (None, 512)               0         \n",
            "                                                                 \n",
            " dense_4 (Dense)             (None, 256)               131328    \n",
            "                                                                 \n",
            " dropout_3 (Dropout)         (None, 256)               0         \n",
            "                                                                 \n",
            " dense_5 (Dense)             (None, 10)                2570      \n",
            "                                                                 \n",
            "=================================================================\n",
            "Total params: 15111242 (57.64 MB)\n",
            "Trainable params: 7475978 (28.52 MB)\n",
            "Non-trainable params: 7635264 (29.13 MB)\n",
            "_________________________________________________________________\n"
          ]
        }
      ]
    },
    {
      "cell_type": "code",
      "source": [
        "history = model_2.fit(train_images, train_labels, epochs=20, batch_size=128, validation_data=(test_images, test_labels))"
      ],
      "metadata": {
        "colab": {
          "base_uri": "https://localhost:8080/"
        },
        "id": "oagjMNzDAB1X",
        "outputId": "533f0fc9-8f16-49d7-9357-6369faa53373"
      },
      "execution_count": 13,
      "outputs": [
        {
          "output_type": "stream",
          "name": "stdout",
          "text": [
            "Epoch 1/20\n",
            "469/469 [==============================] - 22s 34ms/step - loss: 0.4649 - accuracy: 0.8357 - val_loss: 0.3352 - val_accuracy: 0.8810\n",
            "Epoch 2/20\n",
            "469/469 [==============================] - 14s 29ms/step - loss: 0.3024 - accuracy: 0.8907 - val_loss: 0.2988 - val_accuracy: 0.8923\n",
            "Epoch 3/20\n",
            "469/469 [==============================] - 14s 30ms/step - loss: 0.2629 - accuracy: 0.9052 - val_loss: 0.2969 - val_accuracy: 0.8953\n",
            "Epoch 4/20\n",
            "469/469 [==============================] - 14s 30ms/step - loss: 0.2349 - accuracy: 0.9140 - val_loss: 0.2885 - val_accuracy: 0.9006\n",
            "Epoch 5/20\n",
            "469/469 [==============================] - 14s 29ms/step - loss: 0.2160 - accuracy: 0.9203 - val_loss: 0.2790 - val_accuracy: 0.9015\n",
            "Epoch 6/20\n",
            "469/469 [==============================] - 14s 29ms/step - loss: 0.2020 - accuracy: 0.9257 - val_loss: 0.2723 - val_accuracy: 0.9031\n",
            "Epoch 7/20\n",
            "469/469 [==============================] - 14s 30ms/step - loss: 0.1803 - accuracy: 0.9330 - val_loss: 0.2626 - val_accuracy: 0.9101\n",
            "Epoch 8/20\n",
            "469/469 [==============================] - 14s 29ms/step - loss: 0.1689 - accuracy: 0.9379 - val_loss: 0.2714 - val_accuracy: 0.9070\n",
            "Epoch 9/20\n",
            "469/469 [==============================] - 14s 29ms/step - loss: 0.1527 - accuracy: 0.9430 - val_loss: 0.2737 - val_accuracy: 0.9104\n",
            "Epoch 10/20\n",
            "469/469 [==============================] - 14s 29ms/step - loss: 0.1358 - accuracy: 0.9498 - val_loss: 0.2828 - val_accuracy: 0.9084\n",
            "Epoch 11/20\n",
            "469/469 [==============================] - 14s 30ms/step - loss: 0.1271 - accuracy: 0.9529 - val_loss: 0.2895 - val_accuracy: 0.9116\n",
            "Epoch 12/20\n",
            "469/469 [==============================] - 14s 29ms/step - loss: 0.1157 - accuracy: 0.9569 - val_loss: 0.2830 - val_accuracy: 0.9150\n",
            "Epoch 13/20\n",
            "469/469 [==============================] - 14s 29ms/step - loss: 0.1045 - accuracy: 0.9615 - val_loss: 0.3127 - val_accuracy: 0.9055\n",
            "Epoch 14/20\n",
            "469/469 [==============================] - 14s 30ms/step - loss: 0.0947 - accuracy: 0.9642 - val_loss: 0.3404 - val_accuracy: 0.9085\n",
            "Epoch 15/20\n",
            "469/469 [==============================] - 14s 29ms/step - loss: 0.0871 - accuracy: 0.9677 - val_loss: 0.3707 - val_accuracy: 0.9059\n",
            "Epoch 16/20\n",
            "469/469 [==============================] - 14s 29ms/step - loss: 0.0793 - accuracy: 0.9708 - val_loss: 0.3501 - val_accuracy: 0.9109\n",
            "Epoch 17/20\n",
            "469/469 [==============================] - 15s 33ms/step - loss: 0.0722 - accuracy: 0.9728 - val_loss: 0.3949 - val_accuracy: 0.9026\n",
            "Epoch 18/20\n",
            "469/469 [==============================] - 15s 32ms/step - loss: 0.0698 - accuracy: 0.9745 - val_loss: 0.3844 - val_accuracy: 0.9036\n",
            "Epoch 19/20\n",
            "469/469 [==============================] - 15s 32ms/step - loss: 0.0628 - accuracy: 0.9763 - val_loss: 0.3897 - val_accuracy: 0.9059\n",
            "Epoch 20/20\n",
            "469/469 [==============================] - 15s 31ms/step - loss: 0.0577 - accuracy: 0.9791 - val_loss: 0.3995 - val_accuracy: 0.9080\n"
          ]
        }
      ]
    },
    {
      "cell_type": "markdown",
      "source": [
        "Є відчуття що преднавчена на кольорових зображеннях більшого розміру мережа VGG16 не зовсім пыдходить для нашого датасету Fashion_mnist. ТОчність після донавчання 3-х останніх шарів склала 90,8% проти навченої повністю мережи - 92,22%"
      ],
      "metadata": {
        "id": "AS7HDXM_HILe"
      }
    }
  ]
}