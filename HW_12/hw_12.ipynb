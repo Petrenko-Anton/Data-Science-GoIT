{
 "cells": [
  {
   "cell_type": "code",
   "execution_count": 2,
   "metadata": {},
   "outputs": [
    {
     "name": "stderr",
     "output_type": "stream",
     "text": [
      "[nltk_data] Downloading package punkt to\n",
      "[nltk_data]     C:\\Users\\Anton\\AppData\\Roaming\\nltk_data...\n",
      "[nltk_data]   Package punkt is already up-to-date!\n",
      "[nltk_data] Downloading package stopwords to\n",
      "[nltk_data]     C:\\Users\\Anton\\AppData\\Roaming\\nltk_data...\n",
      "[nltk_data]   Package stopwords is already up-to-date!\n",
      "[nltk_data] Error loading corpus: Package 'corpus' not found in index\n"
     ]
    },
    {
     "data": {
      "text/plain": [
       "False"
      ]
     },
     "execution_count": 2,
     "metadata": {},
     "output_type": "execute_result"
    }
   ],
   "source": [
    "import spacy\n",
    "\n",
    "import nltk\n",
    "from nltk.corpus import stopwords\n",
    "from nltk.tokenize import word_tokenize, sent_tokenize\n",
    "from nltk.probability import FreqDist\n",
    "from nltk.tokenize.treebank import TreebankWordDetokenizer\n",
    "import pprint\n",
    "from heapq import nlargest\n",
    "\n",
    "nltk.download(\"punkt\")\n",
    "nltk.download(\"stopwords\")\n",
    "nltk.download(\"corpus\")"
   ]
  },
  {
   "cell_type": "code",
   "execution_count": 3,
   "metadata": {},
   "outputs": [],
   "source": [
    "text_to_summarize = \"The Orbiter Discovery, OV-103, is considered eligible for listing in the National Register of Historic Places (NRHP) in the context of the U.S. Space Shuttle Program (1969-2011) under Criterion A in the areas of Space Exploration and Transportation and under Criterion C in the area of Engineering. Because it has achieved significance within the past fifty years, Criteria Consideration G applies. Under Criterion A, Discovery is significant as the oldest of the three extant orbiter vehicles constructed for the Space Shuttle Program (SSP), the longest running American space program to date; she was the third of five orbiters built by NASA. Unlike the Mercury, Gemini, and Apollo programs, the SSP’s emphasis was on cost effectiveness and reusability, and eventually the construction of a space station. Including her maiden voyage (launched August 30, 1984), Discovery flew to space thirty-nine times, more than any of the other four orbiters; she was also the first orbiter to fly twenty missions. She had the honor of being chosen as the Return to Flight vehicle after both the Challenger and Columbia accidents. Discovery was the first shuttle to fly with the redesigned SRBs, a result of the Challenger accident, and the first shuttle to fly with the Phase II and Block I SSME. Discovery also carried the Hubble Space Telescope to orbit and performed two of the five servicing missions to the observatory. She flew the first and last dedicated Department of Defense (DoD) missions, as well as the first unclassified defense-related mission. In addition, Discovery was vital to the construction of the International Space Station (ISS); she flew thirteen of the thirty-seven total missions flown to the station by a U.S. Space Shuttle. She was the first orbiter to dock to the ISS, and the first to perform an exchange of a resident crew. Under Criterion C, Discovery is significant as a feat of engineering. According to Wayne Hale, a flight director from Johnson Space Center, the Space Shuttle orbiter represents a “huge technological leap from expendable rockets and capsules to a reusable, winged, hypersonic, cargo-carrying spacecraft.” Although her base structure followed a conventional aircraft design, she used advanced materials that both minimized her weight for cargo-carrying purposes and featured low thermal expansion ratios, which provided a stable base for her Thermal Protection System (TPS) materials. The Space Shuttle orbiter also featured the first reusable TPS; all previous spaceflight vehicles had a single-use, ablative heat shield. Other notable engineering achievements of the orbiter included the first reusable orbital propulsion system, and the first two-fault-tolerant Integrated Avionics System. As Hale stated, the Space Shuttle remains “the largest, fastest, winged hypersonic aircraft in history,” having regularly flown at twenty-five times the speed of sound.\""
   ]
  },
  {
   "cell_type": "code",
   "execution_count": 4,
   "metadata": {},
   "outputs": [
    {
     "data": {
      "text/plain": [
       "2906"
      ]
     },
     "execution_count": 4,
     "metadata": {},
     "output_type": "execute_result"
    }
   ],
   "source": [
    "len(text_to_summarize)"
   ]
  },
  {
   "cell_type": "markdown",
   "metadata": {},
   "source": [
    "Нижче моя функція суммарізації тексту NLTK. компресія це % ключоваих слів в кожному реченні (вибирається 10 найпоширениших) і другий параметр - мінімальна кількість речень в резюме тексту. "
   ]
  },
  {
   "cell_type": "code",
   "execution_count": 90,
   "metadata": {},
   "outputs": [
    {
     "name": "stdout",
     "output_type": "stream",
     "text": [
      "('The Orbiter Discovery, OV-103, is considered eligible for listing in the '\n",
      " 'National Register of Historic Places (NRHP) in the context of the U.S. Space '\n",
      " 'Shuttle Program (1969-2011) under Criterion A in the areas of Space '\n",
      " 'Exploration and Transportation and under Criterion C in the area of '\n",
      " 'Engineering. Because it has achieved significance within the past fifty '\n",
      " 'years, Criteria Consideration G applies. Under Criterion A, Discovery is '\n",
      " 'significant as the oldest of the three extant orbiter vehicles constructed '\n",
      " 'for the Space Shuttle Program (SSP), the longest running American space '\n",
      " 'program to date; she was the third of five orbiters built by NASA.')\n",
      "644\n"
     ]
    }
   ],
   "source": [
    "def nltk_summary(text, compression=0.4, min_sentences=5):\n",
    "    # Tokenize sentences\n",
    "    sentences = sent_tokenize(text)\n",
    "\n",
    "    # Tokenize words\n",
    "    words = word_tokenize(text)\n",
    "\n",
    "    # Remove stop words\n",
    "    stop_words = set(stopwords.words(\"english\"))\n",
    "\n",
    "    filtered_words = [\n",
    "        word.lower()\n",
    "        for word in words\n",
    "        if word.isalnum() and word.lower() not in stop_words\n",
    "    ]\n",
    "\n",
    "    # Calculate word frequencies\n",
    "    freq_dist = FreqDist(filtered_words)\n",
    "\n",
    "    # Get the most frequent words\n",
    "    top_words = freq_dist.most_common(10)\n",
    "\n",
    "    common_words = [word for word, freq in top_words]\n",
    "    \n",
    "    # Score sentences\n",
    "    sent_scores = {}\n",
    "    for sentence in sentences:\n",
    "        word_count = 0\n",
    "        for word in common_words:\n",
    "            if word in sentence.lower():\n",
    "                word_count += 1\n",
    "            sent_scores.update({sentence: word_count})\n",
    "\n",
    "    # summarize text\n",
    "    summary_sent = []\n",
    "    target = len(top_words) * compression\n",
    "\n",
    "    for sentence, score in sent_scores.items():\n",
    "        if score >= target or len(summary_sent) < min_sentences:\n",
    "            summary_sent.append(sentence)\n",
    "\n",
    "    summary_text = \" \".join(summary_sent)\n",
    "    return summary_text, common_words\n",
    "\n",
    "\n",
    "# Example usage\n",
    "nltk_summary_result, words = nltk_summary(text_to_summarize, compression=0.6, min_sentences=2)\n",
    "pprint.pprint(nltk_summary_result)\n",
    "print(len(nltk_summary_result))"
   ]
  },
  {
   "cell_type": "markdown",
   "metadata": {},
   "source": [
    "Spacy"
   ]
  },
  {
   "cell_type": "code",
   "execution_count": 81,
   "metadata": {},
   "outputs": [
    {
     "name": "stdout",
     "output_type": "stream",
     "text": [
      "('The Orbiter Discovery, OV-103, is considered eligible for listing in the '\n",
      " 'National Register of Historic Places (NRHP) in the context of the U.S. Space '\n",
      " 'Shuttle Program (1969-2011) under Criterion A in the areas of Space '\n",
      " 'Exploration and Transportation and under Criterion C in the area of '\n",
      " 'Engineering. Under Criterion A, Discovery is significant as the oldest of '\n",
      " 'the three extant orbiter vehicles constructed for the Space Shuttle Program '\n",
      " '(SSP), the longest running American space program to date; she was the third '\n",
      " 'of five orbiters built by NASA. Including her maiden voyage (launched August '\n",
      " '30, 1984), Discovery flew to space thirty-nine times, more than any of the '\n",
      " 'other four orbiters; she was also the first orbiter to fly twenty missions. '\n",
      " 'Discovery was the first shuttle to fly with the redesigned SRBs, a result of '\n",
      " 'the Challenger accident, and the first shuttle to fly with the Phase II and '\n",
      " 'Block I SSME. In addition, Discovery was vital to the construction of the '\n",
      " 'International Space Station (ISS); she flew thirteen of the thirty-seven '\n",
      " 'total missions flown to the station by a U.S. Space Shuttle. According to '\n",
      " 'Wayne Hale, a flight director from Johnson Space Center, the Space Shuttle '\n",
      " 'orbiter represents a “huge technological leap from expendable rockets and '\n",
      " 'capsules to a reusable, winged, hypersonic, cargo-carrying spacecraft.” '\n",
      " 'Although her base structure followed a conventional aircraft design, she '\n",
      " 'used advanced materials that both minimized her weight for cargo-carrying '\n",
      " 'purposes and featured low thermal expansion ratios, which provided a stable '\n",
      " 'base for her Thermal Protection System (TPS) materials.')\n",
      "1614\n"
     ]
    }
   ],
   "source": [
    "def spacy_summary(text):\n",
    "    # Load SpaCy English model\n",
    "    nlp = spacy.load(\"en_core_web_sm\")\n",
    "\n",
    "    # Process the text using SpaCy\n",
    "    doc = nlp(text)\n",
    "    \n",
    "    # Get sentences\n",
    "    sentences = [sent.text for sent in doc.sents]\n",
    "    \n",
    "       \n",
    "    # Extract important sentences based on the number of tokens\n",
    "    important_sentences = [sent for sent in sentences if len(sent.split(' ')) > 25]\n",
    "    \n",
    "    # Generate summary\n",
    "    summary_text = \" \".join(important_sentences)\n",
    "\n",
    "    return summary_text\n",
    "\n",
    "\n",
    "spacy_summary_result = spacy_summary(text_to_summarize)\n",
    "pprint.pprint(spacy_summary_result)\n",
    "print(len(spacy_summary_result))"
   ]
  }
 ],
 "metadata": {
  "kernelspec": {
   "display_name": "Python 3",
   "language": "python",
   "name": "python3"
  },
  "language_info": {
   "codemirror_mode": {
    "name": "ipython",
    "version": 3
   },
   "file_extension": ".py",
   "mimetype": "text/x-python",
   "name": "python",
   "nbconvert_exporter": "python",
   "pygments_lexer": "ipython3",
   "version": "3.11.3"
  }
 },
 "nbformat": 4,
 "nbformat_minor": 2
}
