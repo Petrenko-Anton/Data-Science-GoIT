{
 "cells": [
  {
   "cell_type": "code",
   "execution_count": 15,
   "metadata": {},
   "outputs": [
    {
     "name": "stdout",
     "output_type": "stream",
     "text": [
      "1404\n",
      "('The Orbiter Discovery, OV-103, is considered eligible for listing in the '\n",
      " 'National Register of Historic Places (NRHP) in the context of the U.S. Space '\n",
      " 'Shuttle Program (1969-2011) under Criterion A in the areas of Space '\n",
      " 'Exploration and Transportation and under Criterion C in the area of '\n",
      " 'Engineering.Unlike the Mercury, Gemini, and Apollo programs, the SSP’s '\n",
      " 'emphasis was on cost effectiveness and reusability, and eventually the '\n",
      " 'construction of a space station.Discovery also carried the Hubble Space '\n",
      " 'Telescope to orbit and performed two of the five servicing missions to the '\n",
      " 'observatory.According to Wayne Hale, a flight director from Johnson Space '\n",
      " 'Center, the Space Shuttle orbiter represents a “huge technological leap from '\n",
      " 'expendable rockets and capsules to a reusable, winged, hypersonic, '\n",
      " 'cargo-carrying spacecraft.” Although her base structure followed a '\n",
      " 'conventional aircraft design, she used advanced materials that both '\n",
      " 'minimized her weight for cargo-carrying purposes and featured low thermal '\n",
      " 'expansion ratios, which provided a stable base for her Thermal Protection '\n",
      " 'System (TPS) materials.The Space Shuttle orbiter also featured the first '\n",
      " 'reusable TPS; all previous spaceflight vehicles had a single-use, ablative '\n",
      " 'heat shield.As Hale stated, the Space Shuttle remains “the largest, fastest, '\n",
      " 'winged hypersonic aircraft in history,” having regularly flown at '\n",
      " 'twenty-five times the speed of sound.')\n"
     ]
    }
   ],
   "source": [
    "# -*- coding: utf-8 -*-\n",
    "\n",
    "from __future__ import absolute_import\n",
    "from __future__ import division, print_function, unicode_literals\n",
    "\n",
    "from sumy.parsers.html import HtmlParser\n",
    "from sumy.parsers.plaintext import PlaintextParser\n",
    "from sumy.nlp.tokenizers import Tokenizer\n",
    "from sumy.summarizers.lsa import LsaSummarizer as Summarizer\n",
    "from sumy.nlp.stemmers import Stemmer\n",
    "from sumy.utils import get_stop_words\n",
    "from pprint import pprint\n",
    "\n",
    "LANGUAGE = \"english\"\n",
    "SENTENCES_COUNT = 6\n",
    "\n",
    "text_to_summarize = \"The Orbiter Discovery, OV-103, is considered eligible for listing in the National Register of Historic Places (NRHP) in the context of the U.S. Space Shuttle Program (1969-2011) under Criterion A in the areas of Space Exploration and Transportation and under Criterion C in the area of Engineering. Because it has achieved significance within the past fifty years, Criteria Consideration G applies. Under Criterion A, Discovery is significant as the oldest of the three extant orbiter vehicles constructed for the Space Shuttle Program (SSP), the longest running American space program to date; she was the third of five orbiters built by NASA. Unlike the Mercury, Gemini, and Apollo programs, the SSP’s emphasis was on cost effectiveness and reusability, and eventually the construction of a space station. Including her maiden voyage (launched August 30, 1984), Discovery flew to space thirty-nine times, more than any of the other four orbiters; she was also the first orbiter to fly twenty missions. She had the honor of being chosen as the Return to Flight vehicle after both the Challenger and Columbia accidents. Discovery was the first shuttle to fly with the redesigned SRBs, a result of the Challenger accident, and the first shuttle to fly with the Phase II and Block I SSME. Discovery also carried the Hubble Space Telescope to orbit and performed two of the five servicing missions to the observatory. She flew the first and last dedicated Department of Defense (DoD) missions, as well as the first unclassified defense-related mission. In addition, Discovery was vital to the construction of the International Space Station (ISS); she flew thirteen of the thirty-seven total missions flown to the station by a U.S. Space Shuttle. She was the first orbiter to dock to the ISS, and the first to perform an exchange of a resident crew. Under Criterion C, Discovery is significant as a feat of engineering. According to Wayne Hale, a flight director from Johnson Space Center, the Space Shuttle orbiter represents a “huge technological leap from expendable rockets and capsules to a reusable, winged, hypersonic, cargo-carrying spacecraft.” Although her base structure followed a conventional aircraft design, she used advanced materials that both minimized her weight for cargo-carrying purposes and featured low thermal expansion ratios, which provided a stable base for her Thermal Protection System (TPS) materials. The Space Shuttle orbiter also featured the first reusable TPS; all previous spaceflight vehicles had a single-use, ablative heat shield. Other notable engineering achievements of the orbiter included the first reusable orbital propulsion system, and the first two-fault-tolerant Integrated Avionics System. As Hale stated, the Space Shuttle remains “the largest, fastest, winged hypersonic aircraft in history,” having regularly flown at twenty-five times the speed of sound.\"\n",
    "\n",
    "parser = PlaintextParser.from_string(text_to_summarize, Tokenizer(LANGUAGE))\n",
    "stemmer = Stemmer(LANGUAGE)\n",
    "\n",
    "summarizer = Summarizer(stemmer)\n",
    "summarizer.stop_words = get_stop_words(LANGUAGE)\n",
    "summ_text = \"\"\n",
    "\n",
    "for sentence in summarizer(parser.document, SENTENCES_COUNT):\n",
    "    summ_text += str(sentence)\n",
    "    \n",
    "print(len(summ_text))\n",
    "pprint(summ_text)"
   ]
  }
 ],
 "metadata": {
  "kernelspec": {
   "display_name": "Python 3",
   "language": "python",
   "name": "python3"
  },
  "language_info": {
   "codemirror_mode": {
    "name": "ipython",
    "version": 3
   },
   "file_extension": ".py",
   "mimetype": "text/x-python",
   "name": "python",
   "nbconvert_exporter": "python",
   "pygments_lexer": "ipython3",
   "version": "3.11.3"
  }
 },
 "nbformat": 4,
 "nbformat_minor": 2
}
