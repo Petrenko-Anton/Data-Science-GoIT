{
 "cells": [
  {
   "cell_type": "code",
   "execution_count": 2,
   "metadata": {},
   "outputs": [],
   "source": [
    "import matplotlib.pyplot as plt\n",
    "import numpy as np\n",
    "import tensorflow as tf\n",
    "\n",
    "import tensorflow_datasets as tfds"
   ]
  },
  {
   "cell_type": "code",
   "execution_count": null,
   "metadata": {},
   "outputs": [],
   "source": [
    "from keras.models import Sequential\n",
    "from keras.layers import Dense\n",
    "from keras import optimizers\n",
    "from keras import losses\n",
    "from keras import metrics"
   ]
  },
  {
   "cell_type": "code",
   "execution_count": 3,
   "metadata": {},
   "outputs": [
    {
     "name": "stdout",
     "output_type": "stream",
     "text": [
      "\u001b[1mDownloading and preparing dataset Unknown size (download: Unknown size, generated: Unknown size, total: Unknown size) to C:\\Users\\Anton\\tensorflow_datasets\\fashion_mnist\\3.0.1...\u001b[0m\n"
     ]
    },
    {
     "name": "stderr",
     "output_type": "stream",
     "text": [
      "Dl Completed...: 0 url [00:00, ? url/s]\n",
      "Dl Completed...:   0%|          | 0/1 [00:00<?, ? url/s]\n",
      "Dl Completed...:   0%|          | 0/2 [00:00<?, ? url/s]\n",
      "Dl Completed...:   0%|          | 0/3 [00:00<?, ? url/s]\n",
      "Dl Completed...:   0%|          | 0/4 [00:00<?, ? url/s]\n",
      "Dl Completed...:   0%|          | 0/4 [00:00<?, ? url/s]\n",
      "Dl Completed...:   0%|          | 0/4 [00:00<?, ? url/s]\n",
      "Dl Completed...:   0%|          | 0/4 [00:00<?, ? url/s]\n",
      "Dl Completed...:  25%|██▌       | 1/4 [00:00<00:01,  2.45 url/s]\n",
      "Dl Completed...:  50%|█████     | 2/4 [00:00<00:00,  4.18 url/s]\n",
      "Dl Completed...:  50%|█████     | 2/4 [00:00<00:00,  3.84 url/s]\n",
      "Dl Completed...:  50%|█████     | 2/4 [00:00<00:00,  3.74 url/s]\n",
      "Dl Completed...:  50%|█████     | 2/4 [00:00<00:00,  3.56 url/s]\n",
      "Dl Completed...:  50%|█████     | 2/4 [00:00<00:00,  3.50 url/s]\n",
      "Dl Completed...:  50%|█████     | 2/4 [00:01<00:01,  1.51 url/s]\n",
      "Dl Completed...:  50%|█████     | 2/4 [00:04<00:04,  2.13s/ url]\n",
      "Dl Completed...:  50%|█████     | 2/4 [00:05<00:05,  2.79s/ url]\n",
      "Dl Completed...:  50%|█████     | 2/4 [00:09<00:09,  4.94s/ url]\n",
      "Dl Completed...:  50%|█████     | 2/4 [00:10<00:10,  5.04s/ url]\n",
      "Dl Completed...:  50%|█████     | 2/4 [00:13<00:13,  6.88s/ url]\n",
      "Dl Completed...:  50%|█████     | 2/4 [00:15<00:15,  7.53s/ url]\n",
      "Dl Completed...:  50%|█████     | 2/4 [00:17<00:17,  8.87s/ url]\n",
      "Dl Completed...:  50%|█████     | 2/4 [00:19<00:19,  9.66s/ url]\n",
      "Dl Completed...:  75%|███████▌  | 3/4 [00:19<00:06,  6.64s/ url]\n",
      "Dl Completed...:  75%|███████▌  | 3/4 [00:20<00:06,  6.64s/ url]\n",
      "\u001b[A\n",
      "Dl Completed...:  75%|███████▌  | 3/4 [00:20<00:06,  6.64s/ url]\n",
      "Dl Completed...:  75%|███████▌  | 3/4 [00:22<00:06,  6.64s/ url]\n",
      "Dl Completed...:  75%|███████▌  | 3/4 [00:26<00:06,  6.64s/ url]\n",
      "Dl Completed...:  75%|███████▌  | 3/4 [00:31<00:06,  6.64s/ url]\n",
      "Dl Completed...:  75%|███████▌  | 3/4 [00:36<00:06,  6.64s/ url]\n",
      "Dl Completed...:  75%|███████▌  | 3/4 [00:41<00:06,  6.64s/ url]\n",
      "Dl Completed...:  75%|███████▌  | 3/4 [00:44<00:06,  6.64s/ url]\n",
      "Dl Completed...:  75%|███████▌  | 3/4 [00:49<00:06,  6.64s/ url]\n",
      "Dl Completed...:  75%|███████▌  | 3/4 [00:55<00:06,  6.64s/ url]\n",
      "Dl Completed...:  75%|███████▌  | 3/4 [00:57<00:06,  6.64s/ url]\n",
      "Dl Completed...:  75%|███████▌  | 3/4 [01:02<00:06,  6.64s/ url]\n",
      "Dl Completed...:  75%|███████▌  | 3/4 [01:07<00:06,  6.64s/ url]\n",
      "Dl Completed...:  75%|███████▌  | 3/4 [01:12<00:06,  6.64s/ url]\n",
      "Dl Completed...:  75%|███████▌  | 3/4 [01:17<00:06,  6.64s/ url]\n",
      "Dl Completed...:  75%|███████▌  | 3/4 [01:21<00:06,  6.64s/ url]\n",
      "Dl Completed...:  75%|███████▌  | 3/4 [01:25<00:06,  6.64s/ url]\n",
      "Dl Completed...:  75%|███████▌  | 3/4 [01:29<00:06,  6.64s/ url]\n",
      "Dl Completed...:  75%|███████▌  | 3/4 [01:33<00:06,  6.64s/ url]\n",
      "Dl Completed...:  75%|███████▌  | 3/4 [01:37<00:06,  6.64s/ url]\n",
      "Dl Completed...:  75%|███████▌  | 3/4 [01:41<00:06,  6.64s/ url]\n",
      "Dl Completed...:  75%|███████▌  | 3/4 [01:43<00:06,  6.64s/ url]\n",
      "Dl Completed...:  75%|███████▌  | 3/4 [01:47<00:06,  6.64s/ url]\n",
      "Dl Completed...: 100%|██████████| 4/4 [01:47<00:00, 32.76s/ url]\n",
      "Dl Completed...: 100%|██████████| 4/4 [01:48<00:00, 32.76s/ url]\n",
      "\u001b[A\n",
      "Dl Completed...: 100%|██████████| 4/4 [01:48<00:00, 32.76s/ url]\n",
      "Extraction completed...: 100%|██████████| 4/4 [01:48<00:00, 27.15s/ file]\n",
      "Dl Size...: 100%|██████████| 29/29 [01:48<00:00,  3.75s/ MiB]\n",
      "Dl Completed...: 100%|██████████| 4/4 [01:48<00:00, 27.15s/ url]\n",
      "                                                                        \r"
     ]
    },
    {
     "name": "stdout",
     "output_type": "stream",
     "text": [
      "\u001b[1mDataset fashion_mnist downloaded and prepared to C:\\Users\\Anton\\tensorflow_datasets\\fashion_mnist\\3.0.1. Subsequent calls will reuse this data.\u001b[0m\n",
      "<_PrefetchDataset element_spec={'image': TensorSpec(shape=(28, 28, 1), dtype=tf.uint8, name=None), 'label': TensorSpec(shape=(), dtype=tf.int64, name=None)}>\n"
     ]
    }
   ],
   "source": [
    "ds = tfds.load(\"fashion_mnist\", split=\"train\", shuffle_files=True)\n",
    "assert isinstance(ds, tf.data.Dataset)\n",
    "print(ds)"
   ]
  },
  {
   "cell_type": "code",
   "execution_count": null,
   "metadata": {},
   "outputs": [],
   "source": []
  }
 ],
 "metadata": {
  "kernelspec": {
   "display_name": "Python 3",
   "language": "python",
   "name": "python3"
  },
  "language_info": {
   "codemirror_mode": {
    "name": "ipython",
    "version": 3
   },
   "file_extension": ".py",
   "mimetype": "text/x-python",
   "name": "python",
   "nbconvert_exporter": "python",
   "pygments_lexer": "ipython3",
   "version": "3.11.3"
  }
 },
 "nbformat": 4,
 "nbformat_minor": 2
}
