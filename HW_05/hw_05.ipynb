{
 "cells": [
  {
   "cell_type": "code",
   "execution_count": 97,
   "metadata": {
    "pycharm": {
     "name": "#%%\n"
    }
   },
   "outputs": [],
   "source": [
    "import numpy as np\n",
    "import pandas as pd\n",
    "from matplotlib import pyplot as plt\n",
    "%matplotlib inline\n"
   ]
  },
  {
   "cell_type": "code",
   "execution_count": 98,
   "metadata": {
    "pycharm": {
     "name": "#%%\n"
    }
   },
   "outputs": [
    {
     "data": {
      "text/html": [
       "<div>\n",
       "<style scoped>\n",
       "    .dataframe tbody tr th:only-of-type {\n",
       "        vertical-align: middle;\n",
       "    }\n",
       "\n",
       "    .dataframe tbody tr th {\n",
       "        vertical-align: top;\n",
       "    }\n",
       "\n",
       "    .dataframe thead th {\n",
       "        text-align: right;\n",
       "    }\n",
       "</style>\n",
       "<table border=\"1\" class=\"dataframe\">\n",
       "  <thead>\n",
       "    <tr style=\"text-align: right;\">\n",
       "      <th></th>\n",
       "      <th>accelerometer_X</th>\n",
       "      <th>accelerometer_Y</th>\n",
       "      <th>accelerometer_Z</th>\n",
       "      <th>sample_no</th>\n",
       "      <th>activity</th>\n",
       "    </tr>\n",
       "  </thead>\n",
       "  <tbody>\n",
       "    <tr>\n",
       "      <th>0</th>\n",
       "      <td>1.000776</td>\n",
       "      <td>4.616021</td>\n",
       "      <td>8.576031</td>\n",
       "      <td>1</td>\n",
       "      <td>idle</td>\n",
       "    </tr>\n",
       "    <tr>\n",
       "      <th>1</th>\n",
       "      <td>0.718261</td>\n",
       "      <td>4.209007</td>\n",
       "      <td>8.446744</td>\n",
       "      <td>1</td>\n",
       "      <td>idle</td>\n",
       "    </tr>\n",
       "    <tr>\n",
       "      <th>2</th>\n",
       "      <td>-0.909797</td>\n",
       "      <td>-0.282516</td>\n",
       "      <td>9.203311</td>\n",
       "      <td>1</td>\n",
       "      <td>idle</td>\n",
       "    </tr>\n",
       "    <tr>\n",
       "      <th>3</th>\n",
       "      <td>5.099650</td>\n",
       "      <td>0.148441</td>\n",
       "      <td>8.418014</td>\n",
       "      <td>1</td>\n",
       "      <td>idle</td>\n",
       "    </tr>\n",
       "    <tr>\n",
       "      <th>4</th>\n",
       "      <td>1.762132</td>\n",
       "      <td>-0.162806</td>\n",
       "      <td>9.251195</td>\n",
       "      <td>1</td>\n",
       "      <td>idle</td>\n",
       "    </tr>\n",
       "    <tr>\n",
       "      <th>...</th>\n",
       "      <td>...</td>\n",
       "      <td>...</td>\n",
       "      <td>...</td>\n",
       "      <td>...</td>\n",
       "      <td>...</td>\n",
       "    </tr>\n",
       "    <tr>\n",
       "      <th>193855</th>\n",
       "      <td>5.109226</td>\n",
       "      <td>-15.452178</td>\n",
       "      <td>-1.470040</td>\n",
       "      <td>1850</td>\n",
       "      <td>walking</td>\n",
       "    </tr>\n",
       "    <tr>\n",
       "      <th>193856</th>\n",
       "      <td>6.373365</td>\n",
       "      <td>-11.741165</td>\n",
       "      <td>-8.226476</td>\n",
       "      <td>1850</td>\n",
       "      <td>walking</td>\n",
       "    </tr>\n",
       "    <tr>\n",
       "      <th>193857</th>\n",
       "      <td>3.289633</td>\n",
       "      <td>-9.993398</td>\n",
       "      <td>-0.383072</td>\n",
       "      <td>1850</td>\n",
       "      <td>walking</td>\n",
       "    </tr>\n",
       "    <tr>\n",
       "      <th>193858</th>\n",
       "      <td>-2.978387</td>\n",
       "      <td>-3.050213</td>\n",
       "      <td>1.273715</td>\n",
       "      <td>1850</td>\n",
       "      <td>walking</td>\n",
       "    </tr>\n",
       "    <tr>\n",
       "      <th>193859</th>\n",
       "      <td>-4.347870</td>\n",
       "      <td>-9.926360</td>\n",
       "      <td>-1.642422</td>\n",
       "      <td>1850</td>\n",
       "      <td>walking</td>\n",
       "    </tr>\n",
       "  </tbody>\n",
       "</table>\n",
       "<p>193860 rows × 5 columns</p>\n",
       "</div>"
      ],
      "text/plain": [
       "        accelerometer_X  accelerometer_Y  accelerometer_Z  sample_no activity\n",
       "0              1.000776         4.616021         8.576031          1     idle\n",
       "1              0.718261         4.209007         8.446744          1     idle\n",
       "2             -0.909797        -0.282516         9.203311          1     idle\n",
       "3              5.099650         0.148441         8.418014          1     idle\n",
       "4              1.762132        -0.162806         9.251195          1     idle\n",
       "...                 ...              ...              ...        ...      ...\n",
       "193855         5.109226       -15.452178        -1.470040       1850  walking\n",
       "193856         6.373365       -11.741165        -8.226476       1850  walking\n",
       "193857         3.289633        -9.993398        -0.383072       1850  walking\n",
       "193858        -2.978387        -3.050213         1.273715       1850  walking\n",
       "193859        -4.347870        -9.926360        -1.642422       1850  walking\n",
       "\n",
       "[193860 rows x 5 columns]"
      ]
     },
     "execution_count": 98,
     "metadata": {},
     "output_type": "execute_result"
    }
   ],
   "source": [
    "# load all files into one dataframe, with exact number of file as separate sample\n",
    "from pathlib import Path\n",
    "\n",
    "activities = [\"idle\", \"running\", \"stairs\", \"walking\"]\n",
    "data_collections = []\n",
    "\n",
    "for index, activity in enumerate(activities, start=1):\n",
    "    activity_path = Path(\"data\") / activity\n",
    "    csv_files = list(activity_path.glob(\"*.csv\"))\n",
    "    for sample_no, file in enumerate(csv_files, start=1):\n",
    "        sample = pd.read_csv(file)\n",
    "        sample[\"sample_no\"] = sample_no\n",
    "        sample[\"activity\"] = activity\n",
    "        data_collections.append(sample)\n",
    "\n",
    "df = pd.concat(data_collections, ignore_index=True)\n",
    "df"
   ]
  },
  {
   "cell_type": "code",
   "execution_count": 99,
   "metadata": {
    "pycharm": {
     "name": "#%%\n"
    }
   },
   "outputs": [
    {
     "data": {
      "text/html": [
       "<div>\n",
       "<style scoped>\n",
       "    .dataframe tbody tr th:only-of-type {\n",
       "        vertical-align: middle;\n",
       "    }\n",
       "\n",
       "    .dataframe tbody tr th {\n",
       "        vertical-align: top;\n",
       "    }\n",
       "\n",
       "    .dataframe thead th {\n",
       "        text-align: right;\n",
       "    }\n",
       "</style>\n",
       "<table border=\"1\" class=\"dataframe\">\n",
       "  <thead>\n",
       "    <tr style=\"text-align: right;\">\n",
       "      <th></th>\n",
       "      <th>accelerometer_X</th>\n",
       "      <th>accelerometer_Y</th>\n",
       "      <th>accelerometer_Z</th>\n",
       "      <th>sample_no</th>\n",
       "      <th>activity</th>\n",
       "    </tr>\n",
       "  </thead>\n",
       "  <tbody>\n",
       "    <tr>\n",
       "      <th>0</th>\n",
       "      <td>-0.109791</td>\n",
       "      <td>0.241917</td>\n",
       "      <td>0.941538</td>\n",
       "      <td>1</td>\n",
       "      <td>idle</td>\n",
       "    </tr>\n",
       "    <tr>\n",
       "      <th>1</th>\n",
       "      <td>-0.143404</td>\n",
       "      <td>0.209288</td>\n",
       "      <td>0.923560</td>\n",
       "      <td>1</td>\n",
       "      <td>idle</td>\n",
       "    </tr>\n",
       "    <tr>\n",
       "      <th>2</th>\n",
       "      <td>-0.337109</td>\n",
       "      <td>-0.150782</td>\n",
       "      <td>1.028762</td>\n",
       "      <td>1</td>\n",
       "      <td>idle</td>\n",
       "    </tr>\n",
       "    <tr>\n",
       "      <th>3</th>\n",
       "      <td>0.377889</td>\n",
       "      <td>-0.116234</td>\n",
       "      <td>0.919565</td>\n",
       "      <td>1</td>\n",
       "      <td>idle</td>\n",
       "    </tr>\n",
       "    <tr>\n",
       "      <th>4</th>\n",
       "      <td>-0.019205</td>\n",
       "      <td>-0.141185</td>\n",
       "      <td>1.035420</td>\n",
       "      <td>1</td>\n",
       "      <td>idle</td>\n",
       "    </tr>\n",
       "    <tr>\n",
       "      <th>...</th>\n",
       "      <td>...</td>\n",
       "      <td>...</td>\n",
       "      <td>...</td>\n",
       "      <td>...</td>\n",
       "      <td>...</td>\n",
       "    </tr>\n",
       "    <tr>\n",
       "      <th>193855</th>\n",
       "      <td>0.379029</td>\n",
       "      <td>-1.366884</td>\n",
       "      <td>-0.455385</td>\n",
       "      <td>1850</td>\n",
       "      <td>walking</td>\n",
       "    </tr>\n",
       "    <tr>\n",
       "      <th>193856</th>\n",
       "      <td>0.529435</td>\n",
       "      <td>-1.069384</td>\n",
       "      <td>-1.394879</td>\n",
       "      <td>1850</td>\n",
       "      <td>walking</td>\n",
       "    </tr>\n",
       "    <tr>\n",
       "      <th>193857</th>\n",
       "      <td>0.162535</td>\n",
       "      <td>-0.929271</td>\n",
       "      <td>-0.304241</td>\n",
       "      <td>1850</td>\n",
       "      <td>walking</td>\n",
       "    </tr>\n",
       "    <tr>\n",
       "      <th>193858</th>\n",
       "      <td>-0.583227</td>\n",
       "      <td>-0.372659</td>\n",
       "      <td>-0.073862</td>\n",
       "      <td>1850</td>\n",
       "      <td>walking</td>\n",
       "    </tr>\n",
       "    <tr>\n",
       "      <th>193859</th>\n",
       "      <td>-0.746167</td>\n",
       "      <td>-0.923897</td>\n",
       "      <td>-0.479355</td>\n",
       "      <td>1850</td>\n",
       "      <td>walking</td>\n",
       "    </tr>\n",
       "  </tbody>\n",
       "</table>\n",
       "<p>193860 rows × 5 columns</p>\n",
       "</div>"
      ],
      "text/plain": [
       "        accelerometer_X  accelerometer_Y  accelerometer_Z  sample_no activity\n",
       "0             -0.109791         0.241917         0.941538          1     idle\n",
       "1             -0.143404         0.209288         0.923560          1     idle\n",
       "2             -0.337109        -0.150782         1.028762          1     idle\n",
       "3              0.377889        -0.116234         0.919565          1     idle\n",
       "4             -0.019205        -0.141185         1.035420          1     idle\n",
       "...                 ...              ...              ...        ...      ...\n",
       "193855         0.379029        -1.366884        -0.455385       1850  walking\n",
       "193856         0.529435        -1.069384        -1.394879       1850  walking\n",
       "193857         0.162535        -0.929271        -0.304241       1850  walking\n",
       "193858        -0.583227        -0.372659        -0.073862       1850  walking\n",
       "193859        -0.746167        -0.923897        -0.479355       1850  walking\n",
       "\n",
       "[193860 rows x 5 columns]"
      ]
     },
     "execution_count": 99,
     "metadata": {},
     "output_type": "execute_result"
    }
   ],
   "source": [
    "# accelerometer data normalization\n",
    "from sklearn.preprocessing import StandardScaler\n",
    "\n",
    "features = [\"accelerometer_X\", \"accelerometer_Y\", \"accelerometer_Z\"]\n",
    "\n",
    "scaler = StandardScaler(copy=False)\n",
    "df[features] = scaler.fit_transform(df[features])\n",
    "df"
   ]
  },
  {
   "cell_type": "code",
   "execution_count": 100,
   "metadata": {
    "pycharm": {
     "name": "#%%\n"
    }
   },
   "outputs": [],
   "source": [
    "from sklearn.model_selection import train_test_split\n",
    "\n",
    "X_train, X_test, y_train, y_test = train_test_split(\n",
    "    df[features],\n",
    "    df[\"activity\"],\n",
    "    test_size=0.5,\n",
    "    stratify=df[\"activity\"],\n",
    "    random_state=41\n",
    ")\n",
    "\n"
   ]
  },
  {
   "cell_type": "code",
   "execution_count": 101,
   "metadata": {
    "pycharm": {
     "name": "#%%\n"
    }
   },
   "outputs": [
    {
     "data": {
      "text/html": [
       "<style>#sk-container-id-7 {color: black;}#sk-container-id-7 pre{padding: 0;}#sk-container-id-7 div.sk-toggleable {background-color: white;}#sk-container-id-7 label.sk-toggleable__label {cursor: pointer;display: block;width: 100%;margin-bottom: 0;padding: 0.3em;box-sizing: border-box;text-align: center;}#sk-container-id-7 label.sk-toggleable__label-arrow:before {content: \"▸\";float: left;margin-right: 0.25em;color: #696969;}#sk-container-id-7 label.sk-toggleable__label-arrow:hover:before {color: black;}#sk-container-id-7 div.sk-estimator:hover label.sk-toggleable__label-arrow:before {color: black;}#sk-container-id-7 div.sk-toggleable__content {max-height: 0;max-width: 0;overflow: hidden;text-align: left;background-color: #f0f8ff;}#sk-container-id-7 div.sk-toggleable__content pre {margin: 0.2em;color: black;border-radius: 0.25em;background-color: #f0f8ff;}#sk-container-id-7 input.sk-toggleable__control:checked~div.sk-toggleable__content {max-height: 200px;max-width: 100%;overflow: auto;}#sk-container-id-7 input.sk-toggleable__control:checked~label.sk-toggleable__label-arrow:before {content: \"▾\";}#sk-container-id-7 div.sk-estimator input.sk-toggleable__control:checked~label.sk-toggleable__label {background-color: #d4ebff;}#sk-container-id-7 div.sk-label input.sk-toggleable__control:checked~label.sk-toggleable__label {background-color: #d4ebff;}#sk-container-id-7 input.sk-hidden--visually {border: 0;clip: rect(1px 1px 1px 1px);clip: rect(1px, 1px, 1px, 1px);height: 1px;margin: -1px;overflow: hidden;padding: 0;position: absolute;width: 1px;}#sk-container-id-7 div.sk-estimator {font-family: monospace;background-color: #f0f8ff;border: 1px dotted black;border-radius: 0.25em;box-sizing: border-box;margin-bottom: 0.5em;}#sk-container-id-7 div.sk-estimator:hover {background-color: #d4ebff;}#sk-container-id-7 div.sk-parallel-item::after {content: \"\";width: 100%;border-bottom: 1px solid gray;flex-grow: 1;}#sk-container-id-7 div.sk-label:hover label.sk-toggleable__label {background-color: #d4ebff;}#sk-container-id-7 div.sk-serial::before {content: \"\";position: absolute;border-left: 1px solid gray;box-sizing: border-box;top: 0;bottom: 0;left: 50%;z-index: 0;}#sk-container-id-7 div.sk-serial {display: flex;flex-direction: column;align-items: center;background-color: white;padding-right: 0.2em;padding-left: 0.2em;position: relative;}#sk-container-id-7 div.sk-item {position: relative;z-index: 1;}#sk-container-id-7 div.sk-parallel {display: flex;align-items: stretch;justify-content: center;background-color: white;position: relative;}#sk-container-id-7 div.sk-item::before, #sk-container-id-7 div.sk-parallel-item::before {content: \"\";position: absolute;border-left: 1px solid gray;box-sizing: border-box;top: 0;bottom: 0;left: 50%;z-index: -1;}#sk-container-id-7 div.sk-parallel-item {display: flex;flex-direction: column;z-index: 1;position: relative;background-color: white;}#sk-container-id-7 div.sk-parallel-item:first-child::after {align-self: flex-end;width: 50%;}#sk-container-id-7 div.sk-parallel-item:last-child::after {align-self: flex-start;width: 50%;}#sk-container-id-7 div.sk-parallel-item:only-child::after {width: 0;}#sk-container-id-7 div.sk-dashed-wrapped {border: 1px dashed gray;margin: 0 0.4em 0.5em 0.4em;box-sizing: border-box;padding-bottom: 0.4em;background-color: white;}#sk-container-id-7 div.sk-label label {font-family: monospace;font-weight: bold;display: inline-block;line-height: 1.2em;}#sk-container-id-7 div.sk-label-container {text-align: center;}#sk-container-id-7 div.sk-container {/* jupyter's `normalize.less` sets `[hidden] { display: none; }` but bootstrap.min.css set `[hidden] { display: none !important; }` so we also need the `!important` here to be able to override the default hidden behavior on the sphinx rendered scikit-learn.org. See: https://github.com/scikit-learn/scikit-learn/issues/21755 */display: inline-block !important;position: relative;}#sk-container-id-7 div.sk-text-repr-fallback {display: none;}</style><div id=\"sk-container-id-7\" class=\"sk-top-container\"><div class=\"sk-text-repr-fallback\"><pre>SVC()</pre><b>In a Jupyter environment, please rerun this cell to show the HTML representation or trust the notebook. <br />On GitHub, the HTML representation is unable to render, please try loading this page with nbviewer.org.</b></div><div class=\"sk-container\" hidden><div class=\"sk-item\"><div class=\"sk-estimator sk-toggleable\"><input class=\"sk-toggleable__control sk-hidden--visually\" id=\"sk-estimator-id-7\" type=\"checkbox\" checked><label for=\"sk-estimator-id-7\" class=\"sk-toggleable__label sk-toggleable__label-arrow\">SVC</label><div class=\"sk-toggleable__content\"><pre>SVC()</pre></div></div></div></div></div>"
      ],
      "text/plain": [
       "SVC()"
      ]
     },
     "execution_count": 101,
     "metadata": {},
     "output_type": "execute_result"
    }
   ],
   "source": [
    "from sklearn.svm import SVC\n",
    "\n",
    "model_svm = SVC()\n",
    "model_svm.fit(X_train, y_train)"
   ]
  },
  {
   "cell_type": "code",
   "execution_count": 102,
   "metadata": {
    "pycharm": {
     "name": "#%%\n"
    }
   },
   "outputs": [
    {
     "data": {
      "text/html": [
       "<style>#sk-container-id-8 {color: black;}#sk-container-id-8 pre{padding: 0;}#sk-container-id-8 div.sk-toggleable {background-color: white;}#sk-container-id-8 label.sk-toggleable__label {cursor: pointer;display: block;width: 100%;margin-bottom: 0;padding: 0.3em;box-sizing: border-box;text-align: center;}#sk-container-id-8 label.sk-toggleable__label-arrow:before {content: \"▸\";float: left;margin-right: 0.25em;color: #696969;}#sk-container-id-8 label.sk-toggleable__label-arrow:hover:before {color: black;}#sk-container-id-8 div.sk-estimator:hover label.sk-toggleable__label-arrow:before {color: black;}#sk-container-id-8 div.sk-toggleable__content {max-height: 0;max-width: 0;overflow: hidden;text-align: left;background-color: #f0f8ff;}#sk-container-id-8 div.sk-toggleable__content pre {margin: 0.2em;color: black;border-radius: 0.25em;background-color: #f0f8ff;}#sk-container-id-8 input.sk-toggleable__control:checked~div.sk-toggleable__content {max-height: 200px;max-width: 100%;overflow: auto;}#sk-container-id-8 input.sk-toggleable__control:checked~label.sk-toggleable__label-arrow:before {content: \"▾\";}#sk-container-id-8 div.sk-estimator input.sk-toggleable__control:checked~label.sk-toggleable__label {background-color: #d4ebff;}#sk-container-id-8 div.sk-label input.sk-toggleable__control:checked~label.sk-toggleable__label {background-color: #d4ebff;}#sk-container-id-8 input.sk-hidden--visually {border: 0;clip: rect(1px 1px 1px 1px);clip: rect(1px, 1px, 1px, 1px);height: 1px;margin: -1px;overflow: hidden;padding: 0;position: absolute;width: 1px;}#sk-container-id-8 div.sk-estimator {font-family: monospace;background-color: #f0f8ff;border: 1px dotted black;border-radius: 0.25em;box-sizing: border-box;margin-bottom: 0.5em;}#sk-container-id-8 div.sk-estimator:hover {background-color: #d4ebff;}#sk-container-id-8 div.sk-parallel-item::after {content: \"\";width: 100%;border-bottom: 1px solid gray;flex-grow: 1;}#sk-container-id-8 div.sk-label:hover label.sk-toggleable__label {background-color: #d4ebff;}#sk-container-id-8 div.sk-serial::before {content: \"\";position: absolute;border-left: 1px solid gray;box-sizing: border-box;top: 0;bottom: 0;left: 50%;z-index: 0;}#sk-container-id-8 div.sk-serial {display: flex;flex-direction: column;align-items: center;background-color: white;padding-right: 0.2em;padding-left: 0.2em;position: relative;}#sk-container-id-8 div.sk-item {position: relative;z-index: 1;}#sk-container-id-8 div.sk-parallel {display: flex;align-items: stretch;justify-content: center;background-color: white;position: relative;}#sk-container-id-8 div.sk-item::before, #sk-container-id-8 div.sk-parallel-item::before {content: \"\";position: absolute;border-left: 1px solid gray;box-sizing: border-box;top: 0;bottom: 0;left: 50%;z-index: -1;}#sk-container-id-8 div.sk-parallel-item {display: flex;flex-direction: column;z-index: 1;position: relative;background-color: white;}#sk-container-id-8 div.sk-parallel-item:first-child::after {align-self: flex-end;width: 50%;}#sk-container-id-8 div.sk-parallel-item:last-child::after {align-self: flex-start;width: 50%;}#sk-container-id-8 div.sk-parallel-item:only-child::after {width: 0;}#sk-container-id-8 div.sk-dashed-wrapped {border: 1px dashed gray;margin: 0 0.4em 0.5em 0.4em;box-sizing: border-box;padding-bottom: 0.4em;background-color: white;}#sk-container-id-8 div.sk-label label {font-family: monospace;font-weight: bold;display: inline-block;line-height: 1.2em;}#sk-container-id-8 div.sk-label-container {text-align: center;}#sk-container-id-8 div.sk-container {/* jupyter's `normalize.less` sets `[hidden] { display: none; }` but bootstrap.min.css set `[hidden] { display: none !important; }` so we also need the `!important` here to be able to override the default hidden behavior on the sphinx rendered scikit-learn.org. See: https://github.com/scikit-learn/scikit-learn/issues/21755 */display: inline-block !important;position: relative;}#sk-container-id-8 div.sk-text-repr-fallback {display: none;}</style><div id=\"sk-container-id-8\" class=\"sk-top-container\"><div class=\"sk-text-repr-fallback\"><pre>RandomForestClassifier()</pre><b>In a Jupyter environment, please rerun this cell to show the HTML representation or trust the notebook. <br />On GitHub, the HTML representation is unable to render, please try loading this page with nbviewer.org.</b></div><div class=\"sk-container\" hidden><div class=\"sk-item\"><div class=\"sk-estimator sk-toggleable\"><input class=\"sk-toggleable__control sk-hidden--visually\" id=\"sk-estimator-id-8\" type=\"checkbox\" checked><label for=\"sk-estimator-id-8\" class=\"sk-toggleable__label sk-toggleable__label-arrow\">RandomForestClassifier</label><div class=\"sk-toggleable__content\"><pre>RandomForestClassifier()</pre></div></div></div></div></div>"
      ],
      "text/plain": [
       "RandomForestClassifier()"
      ]
     },
     "execution_count": 102,
     "metadata": {},
     "output_type": "execute_result"
    }
   ],
   "source": [
    "from sklearn.ensemble import RandomForestClassifier\n",
    "\n",
    "model_rf = RandomForestClassifier(n_estimators=100)\n",
    "model_rf.fit(X_train, y_train)"
   ]
  },
  {
   "cell_type": "code",
   "execution_count": 103,
   "metadata": {
    "pycharm": {
     "name": "#%%\n"
    }
   },
   "outputs": [
    {
     "name": "stdout",
     "output_type": "stream",
     "text": [
      "Точність моделі SVM: 0.892\n",
      "Точність моделі випадкового лісу: 1.000\n"
     ]
    }
   ],
   "source": [
    "score_svm = model_svm.score(X_test, y_test)\n",
    "score_rf = model_rf.score(X_test, y_test)\n",
    "\n",
    "print(f\"Точність моделі SVM: {score_svm:.3f}\")\n",
    "print(f\"Точність моделі випадкового лісу: {score_rf:.3f}\")"
   ]
  },
  {
   "cell_type": "code",
   "execution_count": 104,
   "metadata": {
    "pycharm": {
     "name": "#%%\n"
    }
   },
   "outputs": [],
   "source": [
    "from sklearn.metrics import confusion_matrix\n",
    "\n",
    "y_predicted_svm = model_svm.predict(X_test)\n",
    "y_predicted_rf = model_rf.predict(X_test)\n",
    "\n",
    "conf_matrix_svm = confusion_matrix(y_test, y_predicted_svm)\n",
    "conf_matrix_rf = confusion_matrix(y_test, y_predicted_rf)"
   ]
  },
  {
   "cell_type": "code",
   "execution_count": 105,
   "metadata": {
    "pycharm": {
     "name": "#%%\n"
    }
   },
   "outputs": [
    {
     "data": {
      "image/png": "[encoded data removed]",
      "text/plain": [
       "<Figure size 1000x400 with 4 Axes>"
      ]
     },
     "metadata": {},
     "output_type": "display_data"
    }
   ],
   "source": [
    "import seaborn as sns\n",
    "\n",
    "fig, axes = plt.subplots(1, 2, figsize=(10, 4))\n",
    "\n",
    "classifiers = [\"SVM\", \"Random Forest\"]\n",
    "confusion_matrices = [conf_matrix_svm, conf_matrix_rf]\n",
    "\n",
    "for i, classifier in enumerate(classifiers):\n",
    "    sns.heatmap(\n",
    "        confusion_matrices[i],\n",
    "        annot=True,\n",
    "        fmt=\"d\",\n",
    "        cmap=\"Blues\",\n",
    "        xticklabels=activities,\n",
    "        yticklabels=activities,\n",
    "        ax=axes[i],\n",
    "    )\n",
    "    axes[i].set_title(f\"Confusion Matrix for {classifier} Classifier\")\n",
    "    axes[i].set_xlabel(\"Predicted activity\")\n",
    "    axes[i].set_ylabel(\"True activity\")\n",
    "\n",
    "plt.tight_layout()\n",
    "\n",
    "plt.show()"
   ]
  },
  {
   "cell_type": "markdown",
   "metadata": {
    "pycharm": {
     "name": "#%% md\n"
    }
   },
   "source": [
    "We extract 17 time domain features from each window for each axis x, y and z. \n",
    "individual features for each axis involves statistical attributes such as mean, variance, standard deviation and\n",
    "envelope metrics, i.e. median, range maximum and minimum value, root mean square metric. Furthermore, we use\n",
    "signal magnitude area, indexes of minimum and maximum value, power, energy, entropy, skewness, kurtosis,\n",
    "interquartile range, and mean absolute deviation of signal. To see the cross-relational effects of different motion\n",
    "axes, we also use cross correlation of binary combinations of x, y, and z.\n",
    "\n",
    "Ми вилучаємо 17 часових характеристик з кожного вікна для кожної осі x, y та z. \n",
    "Індивідуальні характеристики для кожної осі включають статистичні атрибути, такі як середнє значення, дисперсія, середньоквадратичне відхилення та\n",
    "метрики огинаючої, тобто медіану, максимальне та мінімальне значення діапазону, середньоквадратичну метрику. Крім того, ми використовуємо\n",
    "площа амплітуди сигналу, індекси мінімального та максимального значення, потужність, енергія, ентропія, асиметрія, ексцес\n",
    "міжквартильний розмах та середнє абсолютне відхилення сигналу. Для того, щоб побачити перехресний вплив різних осей руху, ми також використовуємо перехресну кореляцію, ми також використовуємо перехресну кореляцію бінарних комбінацій x, y та z.\n"
   ]
  },
  {
   "cell_type": "code",
   "execution_count": 106,
   "metadata": {
    "pycharm": {
     "name": "#%%\n"
    }
   },
   "outputs": [],
   "source": [
    "# time domain features calculation functions\n",
    "\n",
    "from scipy.stats import entropy, skew, kurtosis\n",
    "\n",
    "\n",
    "def power(signal):\n",
    "    return np.sum(signal**2) / len(signal)\n",
    "\n",
    "\n",
    "def energy(signal):\n",
    "    return np.sum(signal**2)\n",
    "\n",
    "\n",
    "def entropy_(signal):\n",
    "    hist, bins = np.histogram(signal, bins=\"auto\")\n",
    "    probabilities = hist / len(signal)\n",
    "\n",
    "    probabilities = probabilities[probabilities > 0]\n",
    "    entropy_value = entropy(probabilities, base=2)\n",
    "\n",
    "    return entropy_value\n",
    "\n",
    "\n",
    "# interquartile range (1 axis)\n",
    "def iqr(signal):\n",
    "    q75, q25 = np.percentile(signal, [75, 25])\n",
    "    iqr = q75 - q25\n",
    "    return iqr\n",
    "\n",
    "\n",
    "# mean absolute deviation (1 axis)\n",
    "def mad(signal):\n",
    "    mean = np.mean(signal)\n",
    "    mad = np.sum(np.abs(signal - mean)) / len(signal)\n",
    "    return mad\n",
    "\n",
    "\n",
    "# root mean square error (1 axis)\n",
    "def rmse(signal):\n",
    "    mean = np.mean(signal)\n",
    "    squared_errors = [(x - mean) ** 2 for x in signal]\n",
    "    rmse = np.sqrt(np.mean(squared_errors))\n",
    "    return rmse\n",
    "\n",
    "\n",
    "def argmin(signal):\n",
    "    return np.argmin(signal)\n",
    "\n",
    "\n",
    "def argmax(signal):\n",
    "    return np.argmax(signal)\n",
    "\n",
    "\n",
    "def kurtosis_(signal):\n",
    "    return kurtosis(signal)\n",
    "\n",
    "\n",
    "# cross correlation X-Y (2 axis)\n",
    "def cross_corr_XY(series):\n",
    "    return np.correlate(\n",
    "        series[\"accelerometer_X\"], series[\"accelerometer_Y\"], mode=\"same\"\n",
    "    ).mean()\n",
    "\n",
    "\n",
    "# cross correlation Y-Z (2 axis)\n",
    "def cross_corr_YZ(series):\n",
    "    return np.correlate(\n",
    "        series[\"accelerometer_Y\"], series[\"accelerometer_Z\"], mode=\"same\"\n",
    "    ).mean()\n",
    "\n",
    "\n",
    "# cross correlation X-Z (2 axis)\n",
    "def cross_corr_XZ(series):\n",
    "    return np.correlate(\n",
    "        series[\"accelerometer_X\"], series[\"accelerometer_Z\"], mode=\"same\"\n",
    "    ).mean()\n",
    "\n",
    "\n",
    "# signal magnitude area (3 axis)\n",
    "def sma(series):\n",
    "    sma = (\n",
    "        np.abs(series[\"accelerometer_X\"])\n",
    "        + np.abs(series[\"accelerometer_Y\"])\n",
    "        + np.abs(series[\"accelerometer_Z\"])\n",
    "    ).mean()\n",
    "    return sma"
   ]
  },
  {
   "cell_type": "code",
   "execution_count": 107,
   "metadata": {
    "pycharm": {
     "name": "#%%\n"
    }
   },
   "outputs": [
    {
     "data": {
      "text/html": [
       "<div>\n",
       "<style scoped>\n",
       "    .dataframe tbody tr th:only-of-type {\n",
       "        vertical-align: middle;\n",
       "    }\n",
       "\n",
       "    .dataframe tbody tr th {\n",
       "        vertical-align: top;\n",
       "    }\n",
       "\n",
       "    .dataframe thead th {\n",
       "        text-align: right;\n",
       "    }\n",
       "</style>\n",
       "<table border=\"1\" class=\"dataframe\">\n",
       "  <thead>\n",
       "    <tr style=\"text-align: right;\">\n",
       "      <th></th>\n",
       "      <th>activity</th>\n",
       "      <th>sample_no</th>\n",
       "      <th>x_mean</th>\n",
       "      <th>x_var</th>\n",
       "      <th>x_std</th>\n",
       "      <th>x_median</th>\n",
       "      <th>x_min</th>\n",
       "      <th>x_max</th>\n",
       "      <th>x_rmse</th>\n",
       "      <th>x_argmin</th>\n",
       "      <th>...</th>\n",
       "      <th>z_energy</th>\n",
       "      <th>z_entropy_</th>\n",
       "      <th>z_skew</th>\n",
       "      <th>z_kurtosis_</th>\n",
       "      <th>z_iqr</th>\n",
       "      <th>z_mad</th>\n",
       "      <th>cross_corr_XY</th>\n",
       "      <th>cross_corr_YZ</th>\n",
       "      <th>cross_corr_XZ</th>\n",
       "      <th>SMA</th>\n",
       "    </tr>\n",
       "  </thead>\n",
       "  <tbody>\n",
       "    <tr>\n",
       "      <th>0</th>\n",
       "      <td>idle</td>\n",
       "      <td>1</td>\n",
       "      <td>-0.207630</td>\n",
       "      <td>0.015204</td>\n",
       "      <td>0.123305</td>\n",
       "      <td>-0.241111</td>\n",
       "      <td>-0.337109</td>\n",
       "      <td>0.377889</td>\n",
       "      <td>0.121233</td>\n",
       "      <td>2</td>\n",
       "      <td>...</td>\n",
       "      <td>35.390996</td>\n",
       "      <td>2.277957</td>\n",
       "      <td>-2.365312</td>\n",
       "      <td>3.481228</td>\n",
       "      <td>0.004827</td>\n",
       "      <td>0.038315</td>\n",
       "      <td>0.600096</td>\n",
       "      <td>-2.984194</td>\n",
       "      <td>-5.242708</td>\n",
       "      <td>1.462329</td>\n",
       "    </tr>\n",
       "    <tr>\n",
       "      <th>1</th>\n",
       "      <td>idle</td>\n",
       "      <td>2</td>\n",
       "      <td>-0.240598</td>\n",
       "      <td>0.000224</td>\n",
       "      <td>0.014973</td>\n",
       "      <td>-0.242535</td>\n",
       "      <td>-0.267033</td>\n",
       "      <td>-0.180436</td>\n",
       "      <td>0.014722</td>\n",
       "      <td>3</td>\n",
       "      <td>...</td>\n",
       "      <td>36.812339</td>\n",
       "      <td>2.485918</td>\n",
       "      <td>-2.409922</td>\n",
       "      <td>7.285421</td>\n",
       "      <td>0.002663</td>\n",
       "      <td>0.002317</td>\n",
       "      <td>0.751016</td>\n",
       "      <td>-3.455767</td>\n",
       "      <td>-6.001570</td>\n",
       "      <td>1.486980</td>\n",
       "    </tr>\n",
       "    <tr>\n",
       "      <th>2</th>\n",
       "      <td>idle</td>\n",
       "      <td>3</td>\n",
       "      <td>-0.240750</td>\n",
       "      <td>0.000003</td>\n",
       "      <td>0.001861</td>\n",
       "      <td>-0.240826</td>\n",
       "      <td>-0.243675</td>\n",
       "      <td>-0.236268</td>\n",
       "      <td>0.001830</td>\n",
       "      <td>7</td>\n",
       "      <td>...</td>\n",
       "      <td>36.787022</td>\n",
       "      <td>2.526027</td>\n",
       "      <td>-0.097477</td>\n",
       "      <td>-0.752640</td>\n",
       "      <td>0.002663</td>\n",
       "      <td>0.001623</td>\n",
       "      <td>0.598569</td>\n",
       "      <td>-2.754553</td>\n",
       "      <td>-5.997941</td>\n",
       "      <td>1.458527</td>\n",
       "    </tr>\n",
       "    <tr>\n",
       "      <th>3</th>\n",
       "      <td>idle</td>\n",
       "      <td>4</td>\n",
       "      <td>-0.181157</td>\n",
       "      <td>0.000040</td>\n",
       "      <td>0.006293</td>\n",
       "      <td>-0.182145</td>\n",
       "      <td>-0.196958</td>\n",
       "      <td>-0.162205</td>\n",
       "      <td>0.006187</td>\n",
       "      <td>29</td>\n",
       "      <td>...</td>\n",
       "      <td>36.639769</td>\n",
       "      <td>2.333057</td>\n",
       "      <td>0.565957</td>\n",
       "      <td>-0.150002</td>\n",
       "      <td>0.003163</td>\n",
       "      <td>0.001931</td>\n",
       "      <td>0.531253</td>\n",
       "      <td>-3.243241</td>\n",
       "      <td>-4.500970</td>\n",
       "      <td>1.416792</td>\n",
       "    </tr>\n",
       "    <tr>\n",
       "      <th>4</th>\n",
       "      <td>idle</td>\n",
       "      <td>5</td>\n",
       "      <td>-0.181157</td>\n",
       "      <td>0.000040</td>\n",
       "      <td>0.006328</td>\n",
       "      <td>-0.181006</td>\n",
       "      <td>-0.196958</td>\n",
       "      <td>-0.162205</td>\n",
       "      <td>0.006222</td>\n",
       "      <td>27</td>\n",
       "      <td>...</td>\n",
       "      <td>36.650091</td>\n",
       "      <td>2.357544</td>\n",
       "      <td>0.453139</td>\n",
       "      <td>-0.583786</td>\n",
       "      <td>0.003829</td>\n",
       "      <td>0.002086</td>\n",
       "      <td>0.531260</td>\n",
       "      <td>-3.240848</td>\n",
       "      <td>-4.504866</td>\n",
       "      <td>1.416755</td>\n",
       "    </tr>\n",
       "    <tr>\n",
       "      <th>...</th>\n",
       "      <td>...</td>\n",
       "      <td>...</td>\n",
       "      <td>...</td>\n",
       "      <td>...</td>\n",
       "      <td>...</td>\n",
       "      <td>...</td>\n",
       "      <td>...</td>\n",
       "      <td>...</td>\n",
       "      <td>...</td>\n",
       "      <td>...</td>\n",
       "      <td>...</td>\n",
       "      <td>...</td>\n",
       "      <td>...</td>\n",
       "      <td>...</td>\n",
       "      <td>...</td>\n",
       "      <td>...</td>\n",
       "      <td>...</td>\n",
       "      <td>...</td>\n",
       "      <td>...</td>\n",
       "      <td>...</td>\n",
       "      <td>...</td>\n",
       "    </tr>\n",
       "    <tr>\n",
       "      <th>6457</th>\n",
       "      <td>walking</td>\n",
       "      <td>1846</td>\n",
       "      <td>-0.181670</td>\n",
       "      <td>0.170856</td>\n",
       "      <td>0.413347</td>\n",
       "      <td>-0.182430</td>\n",
       "      <td>-0.941581</td>\n",
       "      <td>0.626857</td>\n",
       "      <td>0.406400</td>\n",
       "      <td>1</td>\n",
       "      <td>...</td>\n",
       "      <td>44.453490</td>\n",
       "      <td>2.757882</td>\n",
       "      <td>1.221757</td>\n",
       "      <td>6.038754</td>\n",
       "      <td>0.415648</td>\n",
       "      <td>0.660552</td>\n",
       "      <td>4.350148</td>\n",
       "      <td>6.196336</td>\n",
       "      <td>1.487460</td>\n",
       "      <td>2.044943</td>\n",
       "    </tr>\n",
       "    <tr>\n",
       "      <th>6458</th>\n",
       "      <td>walking</td>\n",
       "      <td>1847</td>\n",
       "      <td>-0.179125</td>\n",
       "      <td>0.176790</td>\n",
       "      <td>0.420463</td>\n",
       "      <td>-0.182430</td>\n",
       "      <td>-1.104521</td>\n",
       "      <td>0.626857</td>\n",
       "      <td>0.413396</td>\n",
       "      <td>29</td>\n",
       "      <td>...</td>\n",
       "      <td>44.290573</td>\n",
       "      <td>2.811537</td>\n",
       "      <td>1.178148</td>\n",
       "      <td>5.941852</td>\n",
       "      <td>0.415648</td>\n",
       "      <td>0.661086</td>\n",
       "      <td>4.024627</td>\n",
       "      <td>5.485204</td>\n",
       "      <td>1.093841</td>\n",
       "      <td>2.039001</td>\n",
       "    </tr>\n",
       "    <tr>\n",
       "      <th>6459</th>\n",
       "      <td>walking</td>\n",
       "      <td>1848</td>\n",
       "      <td>-0.091825</td>\n",
       "      <td>0.220649</td>\n",
       "      <td>0.469733</td>\n",
       "      <td>-0.050255</td>\n",
       "      <td>-1.104521</td>\n",
       "      <td>1.093457</td>\n",
       "      <td>0.461838</td>\n",
       "      <td>27</td>\n",
       "      <td>...</td>\n",
       "      <td>35.876965</td>\n",
       "      <td>2.755913</td>\n",
       "      <td>1.996085</td>\n",
       "      <td>8.300254</td>\n",
       "      <td>0.415648</td>\n",
       "      <td>0.579176</td>\n",
       "      <td>2.382714</td>\n",
       "      <td>4.101512</td>\n",
       "      <td>0.442672</td>\n",
       "      <td>1.997899</td>\n",
       "    </tr>\n",
       "    <tr>\n",
       "      <th>6460</th>\n",
       "      <td>walking</td>\n",
       "      <td>1849</td>\n",
       "      <td>-0.044311</td>\n",
       "      <td>0.228418</td>\n",
       "      <td>0.477931</td>\n",
       "      <td>-0.004108</td>\n",
       "      <td>-1.104521</td>\n",
       "      <td>1.093457</td>\n",
       "      <td>0.469898</td>\n",
       "      <td>25</td>\n",
       "      <td>...</td>\n",
       "      <td>36.813973</td>\n",
       "      <td>2.850050</td>\n",
       "      <td>1.959435</td>\n",
       "      <td>8.013279</td>\n",
       "      <td>0.415648</td>\n",
       "      <td>0.592431</td>\n",
       "      <td>1.475805</td>\n",
       "      <td>4.074648</td>\n",
       "      <td>0.135170</td>\n",
       "      <td>2.036275</td>\n",
       "    </tr>\n",
       "    <tr>\n",
       "      <th>6461</th>\n",
       "      <td>walking</td>\n",
       "      <td>1850</td>\n",
       "      <td>-0.094180</td>\n",
       "      <td>0.251192</td>\n",
       "      <td>0.501190</td>\n",
       "      <td>-0.050255</td>\n",
       "      <td>-1.104521</td>\n",
       "      <td>1.093457</td>\n",
       "      <td>0.492766</td>\n",
       "      <td>23</td>\n",
       "      <td>...</td>\n",
       "      <td>36.747624</td>\n",
       "      <td>2.771766</td>\n",
       "      <td>1.950320</td>\n",
       "      <td>7.998132</td>\n",
       "      <td>0.414483</td>\n",
       "      <td>0.592401</td>\n",
       "      <td>1.998830</td>\n",
       "      <td>3.672984</td>\n",
       "      <td>0.129673</td>\n",
       "      <td>2.054217</td>\n",
       "    </tr>\n",
       "  </tbody>\n",
       "</table>\n",
       "<p>6462 rows × 54 columns</p>\n",
       "</div>"
      ],
      "text/plain": [
       "     activity  sample_no    x_mean     x_var     x_std  x_median     x_min  \\\n",
       "0        idle          1 -0.207630  0.015204  0.123305 -0.241111 -0.337109   \n",
       "1        idle          2 -0.240598  0.000224  0.014973 -0.242535 -0.267033   \n",
       "2        idle          3 -0.240750  0.000003  0.001861 -0.240826 -0.243675   \n",
       "3        idle          4 -0.181157  0.000040  0.006293 -0.182145 -0.196958   \n",
       "4        idle          5 -0.181157  0.000040  0.006328 -0.181006 -0.196958   \n",
       "...       ...        ...       ...       ...       ...       ...       ...   \n",
       "6457  walking       1846 -0.181670  0.170856  0.413347 -0.182430 -0.941581   \n",
       "6458  walking       1847 -0.179125  0.176790  0.420463 -0.182430 -1.104521   \n",
       "6459  walking       1848 -0.091825  0.220649  0.469733 -0.050255 -1.104521   \n",
       "6460  walking       1849 -0.044311  0.228418  0.477931 -0.004108 -1.104521   \n",
       "6461  walking       1850 -0.094180  0.251192  0.501190 -0.050255 -1.104521   \n",
       "\n",
       "         x_max    x_rmse  x_argmin  ...   z_energy  z_entropy_    z_skew  \\\n",
       "0     0.377889  0.121233         2  ...  35.390996    2.277957 -2.365312   \n",
       "1    -0.180436  0.014722         3  ...  36.812339    2.485918 -2.409922   \n",
       "2    -0.236268  0.001830         7  ...  36.787022    2.526027 -0.097477   \n",
       "3    -0.162205  0.006187        29  ...  36.639769    2.333057  0.565957   \n",
       "4    -0.162205  0.006222        27  ...  36.650091    2.357544  0.453139   \n",
       "...        ...       ...       ...  ...        ...         ...       ...   \n",
       "6457  0.626857  0.406400         1  ...  44.453490    2.757882  1.221757   \n",
       "6458  0.626857  0.413396        29  ...  44.290573    2.811537  1.178148   \n",
       "6459  1.093457  0.461838        27  ...  35.876965    2.755913  1.996085   \n",
       "6460  1.093457  0.469898        25  ...  36.813973    2.850050  1.959435   \n",
       "6461  1.093457  0.492766        23  ...  36.747624    2.771766  1.950320   \n",
       "\n",
       "      z_kurtosis_     z_iqr     z_mad  cross_corr_XY  cross_corr_YZ  \\\n",
       "0        3.481228  0.004827  0.038315       0.600096      -2.984194   \n",
       "1        7.285421  0.002663  0.002317       0.751016      -3.455767   \n",
       "2       -0.752640  0.002663  0.001623       0.598569      -2.754553   \n",
       "3       -0.150002  0.003163  0.001931       0.531253      -3.243241   \n",
       "4       -0.583786  0.003829  0.002086       0.531260      -3.240848   \n",
       "...           ...       ...       ...            ...            ...   \n",
       "6457     6.038754  0.415648  0.660552       4.350148       6.196336   \n",
       "6458     5.941852  0.415648  0.661086       4.024627       5.485204   \n",
       "6459     8.300254  0.415648  0.579176       2.382714       4.101512   \n",
       "6460     8.013279  0.415648  0.592431       1.475805       4.074648   \n",
       "6461     7.998132  0.414483  0.592401       1.998830       3.672984   \n",
       "\n",
       "      cross_corr_XZ       SMA  \n",
       "0         -5.242708  1.462329  \n",
       "1         -6.001570  1.486980  \n",
       "2         -5.997941  1.458527  \n",
       "3         -4.500970  1.416792  \n",
       "4         -4.504866  1.416755  \n",
       "...             ...       ...  \n",
       "6457       1.487460  2.044943  \n",
       "6458       1.093841  2.039001  \n",
       "6459       0.442672  1.997899  \n",
       "6460       0.135170  2.036275  \n",
       "6461       0.129673  2.054217  \n",
       "\n",
       "[6462 rows x 54 columns]"
      ]
     },
     "execution_count": 107,
     "metadata": {},
     "output_type": "execute_result"
    }
   ],
   "source": [
    "one_axis_funcs = [\n",
    "    \"mean\",\n",
    "    \"var\",\n",
    "    \"std\",\n",
    "    \"median\",\n",
    "    \"min\",\n",
    "    \"max\",\n",
    "    rmse,\n",
    "    argmin,\n",
    "    argmax,\n",
    "    power,\n",
    "    energy,\n",
    "    entropy_,\n",
    "    \"skew\",\n",
    "    kurtosis_,\n",
    "    iqr,\n",
    "    mad,\n",
    "]\n",
    "df_tdf = (\n",
    "    df.groupby([\"activity\", \"sample_no\"])\n",
    "    .agg(\n",
    "        {\n",
    "            \"accelerometer_X\": one_axis_funcs,\n",
    "            \"accelerometer_Y\": one_axis_funcs,\n",
    "            \"accelerometer_Z\": one_axis_funcs,\n",
    "        }\n",
    "    )\n",
    "    .reset_index()\n",
    ")\n",
    "axis = [\"x\", \"y\", \"z\"]\n",
    "\n",
    "cols = [\"activity\", \"sample_no\"]\n",
    "\n",
    "for ax in axis:\n",
    "    for func in one_axis_funcs:\n",
    "        if type(func) != str:\n",
    "            col_name = f\"{ax}_{func.__name__}\"\n",
    "        else:\n",
    "            col_name = f\"{ax}_{func}\"\n",
    "        cols.append(col_name)\n",
    "\n",
    "df_tdf.columns = cols\n",
    "\n",
    "\n",
    "df_tdf[\"cross_corr_XY\"] = (\n",
    "    df.groupby([\"activity\", \"sample_no\"]).apply(cross_corr_XY).values\n",
    ")\n",
    "\n",
    "df_tdf[\"cross_corr_YZ\"] = (\n",
    "    df.groupby([\"activity\", \"sample_no\"]).apply(cross_corr_YZ).values\n",
    ")\n",
    "\n",
    "df_tdf[\"cross_corr_XZ\"] = (\n",
    "    df.groupby([\"activity\", \"sample_no\"]).apply(cross_corr_XZ).values\n",
    ")\n",
    "\n",
    "\n",
    "df_tdf[\"SMA\"] = (\n",
    "    df.groupby([\"activity\", \"sample_no\"]).apply(sma).values\n",
    ")\n",
    "\n",
    "df_tdf"
   ]
  },
  {
   "cell_type": "code",
   "execution_count": 108,
   "metadata": {
    "pycharm": {
     "name": "#%%\n"
    }
   },
   "outputs": [],
   "source": [
    "X_train, X_test, y_train, y_test = train_test_split(\n",
    "    df_tdf.iloc[:, 3:],\n",
    "    df_tdf[\"activity\"],\n",
    "    test_size=0.3,\n",
    "    stratify=df_tdf[\"activity\"],\n",
    ")"
   ]
  },
  {
   "cell_type": "code",
   "execution_count": 109,
   "metadata": {
    "pycharm": {
     "name": "#%%\n"
    }
   },
   "outputs": [
    {
     "data": {
      "text/html": [
       "<style>#sk-container-id-9 {color: black;}#sk-container-id-9 pre{padding: 0;}#sk-container-id-9 div.sk-toggleable {background-color: white;}#sk-container-id-9 label.sk-toggleable__label {cursor: pointer;display: block;width: 100%;margin-bottom: 0;padding: 0.3em;box-sizing: border-box;text-align: center;}#sk-container-id-9 label.sk-toggleable__label-arrow:before {content: \"▸\";float: left;margin-right: 0.25em;color: #696969;}#sk-container-id-9 label.sk-toggleable__label-arrow:hover:before {color: black;}#sk-container-id-9 div.sk-estimator:hover label.sk-toggleable__label-arrow:before {color: black;}#sk-container-id-9 div.sk-toggleable__content {max-height: 0;max-width: 0;overflow: hidden;text-align: left;background-color: #f0f8ff;}#sk-container-id-9 div.sk-toggleable__content pre {margin: 0.2em;color: black;border-radius: 0.25em;background-color: #f0f8ff;}#sk-container-id-9 input.sk-toggleable__control:checked~div.sk-toggleable__content {max-height: 200px;max-width: 100%;overflow: auto;}#sk-container-id-9 input.sk-toggleable__control:checked~label.sk-toggleable__label-arrow:before {content: \"▾\";}#sk-container-id-9 div.sk-estimator input.sk-toggleable__control:checked~label.sk-toggleable__label {background-color: #d4ebff;}#sk-container-id-9 div.sk-label input.sk-toggleable__control:checked~label.sk-toggleable__label {background-color: #d4ebff;}#sk-container-id-9 input.sk-hidden--visually {border: 0;clip: rect(1px 1px 1px 1px);clip: rect(1px, 1px, 1px, 1px);height: 1px;margin: -1px;overflow: hidden;padding: 0;position: absolute;width: 1px;}#sk-container-id-9 div.sk-estimator {font-family: monospace;background-color: #f0f8ff;border: 1px dotted black;border-radius: 0.25em;box-sizing: border-box;margin-bottom: 0.5em;}#sk-container-id-9 div.sk-estimator:hover {background-color: #d4ebff;}#sk-container-id-9 div.sk-parallel-item::after {content: \"\";width: 100%;border-bottom: 1px solid gray;flex-grow: 1;}#sk-container-id-9 div.sk-label:hover label.sk-toggleable__label {background-color: #d4ebff;}#sk-container-id-9 div.sk-serial::before {content: \"\";position: absolute;border-left: 1px solid gray;box-sizing: border-box;top: 0;bottom: 0;left: 50%;z-index: 0;}#sk-container-id-9 div.sk-serial {display: flex;flex-direction: column;align-items: center;background-color: white;padding-right: 0.2em;padding-left: 0.2em;position: relative;}#sk-container-id-9 div.sk-item {position: relative;z-index: 1;}#sk-container-id-9 div.sk-parallel {display: flex;align-items: stretch;justify-content: center;background-color: white;position: relative;}#sk-container-id-9 div.sk-item::before, #sk-container-id-9 div.sk-parallel-item::before {content: \"\";position: absolute;border-left: 1px solid gray;box-sizing: border-box;top: 0;bottom: 0;left: 50%;z-index: -1;}#sk-container-id-9 div.sk-parallel-item {display: flex;flex-direction: column;z-index: 1;position: relative;background-color: white;}#sk-container-id-9 div.sk-parallel-item:first-child::after {align-self: flex-end;width: 50%;}#sk-container-id-9 div.sk-parallel-item:last-child::after {align-self: flex-start;width: 50%;}#sk-container-id-9 div.sk-parallel-item:only-child::after {width: 0;}#sk-container-id-9 div.sk-dashed-wrapped {border: 1px dashed gray;margin: 0 0.4em 0.5em 0.4em;box-sizing: border-box;padding-bottom: 0.4em;background-color: white;}#sk-container-id-9 div.sk-label label {font-family: monospace;font-weight: bold;display: inline-block;line-height: 1.2em;}#sk-container-id-9 div.sk-label-container {text-align: center;}#sk-container-id-9 div.sk-container {/* jupyter's `normalize.less` sets `[hidden] { display: none; }` but bootstrap.min.css set `[hidden] { display: none !important; }` so we also need the `!important` here to be able to override the default hidden behavior on the sphinx rendered scikit-learn.org. See: https://github.com/scikit-learn/scikit-learn/issues/21755 */display: inline-block !important;position: relative;}#sk-container-id-9 div.sk-text-repr-fallback {display: none;}</style><div id=\"sk-container-id-9\" class=\"sk-top-container\"><div class=\"sk-text-repr-fallback\"><pre>SVC()</pre><b>In a Jupyter environment, please rerun this cell to show the HTML representation or trust the notebook. <br />On GitHub, the HTML representation is unable to render, please try loading this page with nbviewer.org.</b></div><div class=\"sk-container\" hidden><div class=\"sk-item\"><div class=\"sk-estimator sk-toggleable\"><input class=\"sk-toggleable__control sk-hidden--visually\" id=\"sk-estimator-id-9\" type=\"checkbox\" checked><label for=\"sk-estimator-id-9\" class=\"sk-toggleable__label sk-toggleable__label-arrow\">SVC</label><div class=\"sk-toggleable__content\"><pre>SVC()</pre></div></div></div></div></div>"
      ],
      "text/plain": [
       "SVC()"
      ]
     },
     "execution_count": 109,
     "metadata": {},
     "output_type": "execute_result"
    }
   ],
   "source": [
    "model_svm = SVC()\n",
    "model_svm.fit(X_train, y_train)"
   ]
  },
  {
   "cell_type": "code",
   "execution_count": 110,
   "metadata": {
    "pycharm": {
     "name": "#%%\n"
    }
   },
   "outputs": [
    {
     "data": {
      "text/html": [
       "<style>#sk-container-id-10 {color: black;}#sk-container-id-10 pre{padding: 0;}#sk-container-id-10 div.sk-toggleable {background-color: white;}#sk-container-id-10 label.sk-toggleable__label {cursor: pointer;display: block;width: 100%;margin-bottom: 0;padding: 0.3em;box-sizing: border-box;text-align: center;}#sk-container-id-10 label.sk-toggleable__label-arrow:before {content: \"▸\";float: left;margin-right: 0.25em;color: #696969;}#sk-container-id-10 label.sk-toggleable__label-arrow:hover:before {color: black;}#sk-container-id-10 div.sk-estimator:hover label.sk-toggleable__label-arrow:before {color: black;}#sk-container-id-10 div.sk-toggleable__content {max-height: 0;max-width: 0;overflow: hidden;text-align: left;background-color: #f0f8ff;}#sk-container-id-10 div.sk-toggleable__content pre {margin: 0.2em;color: black;border-radius: 0.25em;background-color: #f0f8ff;}#sk-container-id-10 input.sk-toggleable__control:checked~div.sk-toggleable__content {max-height: 200px;max-width: 100%;overflow: auto;}#sk-container-id-10 input.sk-toggleable__control:checked~label.sk-toggleable__label-arrow:before {content: \"▾\";}#sk-container-id-10 div.sk-estimator input.sk-toggleable__control:checked~label.sk-toggleable__label {background-color: #d4ebff;}#sk-container-id-10 div.sk-label input.sk-toggleable__control:checked~label.sk-toggleable__label {background-color: #d4ebff;}#sk-container-id-10 input.sk-hidden--visually {border: 0;clip: rect(1px 1px 1px 1px);clip: rect(1px, 1px, 1px, 1px);height: 1px;margin: -1px;overflow: hidden;padding: 0;position: absolute;width: 1px;}#sk-container-id-10 div.sk-estimator {font-family: monospace;background-color: #f0f8ff;border: 1px dotted black;border-radius: 0.25em;box-sizing: border-box;margin-bottom: 0.5em;}#sk-container-id-10 div.sk-estimator:hover {background-color: #d4ebff;}#sk-container-id-10 div.sk-parallel-item::after {content: \"\";width: 100%;border-bottom: 1px solid gray;flex-grow: 1;}#sk-container-id-10 div.sk-label:hover label.sk-toggleable__label {background-color: #d4ebff;}#sk-container-id-10 div.sk-serial::before {content: \"\";position: absolute;border-left: 1px solid gray;box-sizing: border-box;top: 0;bottom: 0;left: 50%;z-index: 0;}#sk-container-id-10 div.sk-serial {display: flex;flex-direction: column;align-items: center;background-color: white;padding-right: 0.2em;padding-left: 0.2em;position: relative;}#sk-container-id-10 div.sk-item {position: relative;z-index: 1;}#sk-container-id-10 div.sk-parallel {display: flex;align-items: stretch;justify-content: center;background-color: white;position: relative;}#sk-container-id-10 div.sk-item::before, #sk-container-id-10 div.sk-parallel-item::before {content: \"\";position: absolute;border-left: 1px solid gray;box-sizing: border-box;top: 0;bottom: 0;left: 50%;z-index: -1;}#sk-container-id-10 div.sk-parallel-item {display: flex;flex-direction: column;z-index: 1;position: relative;background-color: white;}#sk-container-id-10 div.sk-parallel-item:first-child::after {align-self: flex-end;width: 50%;}#sk-container-id-10 div.sk-parallel-item:last-child::after {align-self: flex-start;width: 50%;}#sk-container-id-10 div.sk-parallel-item:only-child::after {width: 0;}#sk-container-id-10 div.sk-dashed-wrapped {border: 1px dashed gray;margin: 0 0.4em 0.5em 0.4em;box-sizing: border-box;padding-bottom: 0.4em;background-color: white;}#sk-container-id-10 div.sk-label label {font-family: monospace;font-weight: bold;display: inline-block;line-height: 1.2em;}#sk-container-id-10 div.sk-label-container {text-align: center;}#sk-container-id-10 div.sk-container {/* jupyter's `normalize.less` sets `[hidden] { display: none; }` but bootstrap.min.css set `[hidden] { display: none !important; }` so we also need the `!important` here to be able to override the default hidden behavior on the sphinx rendered scikit-learn.org. See: https://github.com/scikit-learn/scikit-learn/issues/21755 */display: inline-block !important;position: relative;}#sk-container-id-10 div.sk-text-repr-fallback {display: none;}</style><div id=\"sk-container-id-10\" class=\"sk-top-container\"><div class=\"sk-text-repr-fallback\"><pre>RandomForestClassifier()</pre><b>In a Jupyter environment, please rerun this cell to show the HTML representation or trust the notebook. <br />On GitHub, the HTML representation is unable to render, please try loading this page with nbviewer.org.</b></div><div class=\"sk-container\" hidden><div class=\"sk-item\"><div class=\"sk-estimator sk-toggleable\"><input class=\"sk-toggleable__control sk-hidden--visually\" id=\"sk-estimator-id-10\" type=\"checkbox\" checked><label for=\"sk-estimator-id-10\" class=\"sk-toggleable__label sk-toggleable__label-arrow\">RandomForestClassifier</label><div class=\"sk-toggleable__content\"><pre>RandomForestClassifier()</pre></div></div></div></div></div>"
      ],
      "text/plain": [
       "RandomForestClassifier()"
      ]
     },
     "execution_count": 110,
     "metadata": {},
     "output_type": "execute_result"
    }
   ],
   "source": [
    "model_rf = RandomForestClassifier(n_estimators=100)\n",
    "model_rf.fit(X_train, y_train)"
   ]
  },
  {
   "cell_type": "code",
   "execution_count": 111,
   "metadata": {
    "pycharm": {
     "name": "#%%\n"
    }
   },
   "outputs": [
    {
     "name": "stdout",
     "output_type": "stream",
     "text": [
      "Точність моделі SVM: 0.986\n",
      "Точність моделі випадкового лісу: 0.999\n"
     ]
    }
   ],
   "source": [
    "score_svm = model_svm.score(X_test, y_test)\n",
    "score_rf = model_rf.score(X_test, y_test)\n",
    "\n",
    "print(f\"Точність моделі SVM: {score_svm:.3f}\")\n",
    "print(f\"Точність моделі випадкового лісу: {score_rf:.3f}\")"
   ]
  },
  {
   "cell_type": "code",
   "execution_count": 112,
   "metadata": {
    "pycharm": {
     "name": "#%%\n"
    }
   },
   "outputs": [],
   "source": [
    "y_predicted_svm = model_svm.predict(X_test)\n",
    "y_predicted_rf = model_rf.predict(X_test)"
   ]
  },
  {
   "cell_type": "code",
   "execution_count": 113,
   "metadata": {
    "pycharm": {
     "name": "#%%\n"
    }
   },
   "outputs": [],
   "source": [
    "conf_matrix_svm = confusion_matrix(y_test, y_predicted_svm)\n",
    "conf_matrix_rf = confusion_matrix(y_test, y_predicted_rf)"
   ]
  },
  {
   "cell_type": "code",
   "execution_count": 114,
   "metadata": {
    "pycharm": {
     "name": "#%%\n"
    }
   },
   "outputs": [
    {
     "data": {
      "image/png": "[encoded data removed]",
      "text/plain": [
       "<Figure size 1000x400 with 4 Axes>"
      ]
     },
     "metadata": {},
     "output_type": "display_data"
    }
   ],
   "source": [
    "fig, axes = plt.subplots(1, 2, figsize=(10, 4))\n",
    "\n",
    "classifiers = [\"SVM\", \"Random Forest\"]\n",
    "confusion_matrices = [conf_matrix_svm, conf_matrix_rf]\n",
    "\n",
    "for i, classifier in enumerate(classifiers):\n",
    "    sns.heatmap(\n",
    "        confusion_matrices[i],\n",
    "        annot=True,\n",
    "        fmt=\"d\",\n",
    "        cmap=\"YlOrBr\",\n",
    "        xticklabels=activities,\n",
    "        yticklabels=activities,\n",
    "        ax=axes[i],\n",
    "    )\n",
    "    axes[i].set_title(f\"Confusion Matrix for {classifier} Classifier\")\n",
    "    axes[i].set_xlabel(\"Predicted activity\")\n",
    "    axes[i].set_ylabel(\"True activity\")\n",
    "\n",
    "plt.tight_layout()\n",
    "\n",
    "plt.show()"
   ]
  },
  {
   "cell_type": "markdown",
   "metadata": {
    "pycharm": {
     "name": "#%% md\n"
    }
   },
   "source": [
    "1 Класифікатор SVM працює повільніше і робить більше помилок (особливо в першому варіанті, коли використовуються тільки показники акселерометра). \n"
   ]
  },
  {
   "cell_type": "markdown",
   "metadata": {
    "pycharm": {
     "name": "#%% md\n"
    }
   },
   "source": [
    "2 Класифікатор \"Випадковий ліс\" набагато краще підходить для цієї задачі, і швидше праціює"
   ]
  },
  {
   "cell_type": "markdown",
   "metadata": {
    "pycharm": {
     "name": "#%% md\n"
    }
   },
   "source": [
    "З використанням Time Domain Features значно збфльшується точність класифікації, майже ідеальна, за виключенням 27 випадків коли SVM помилково сплутав ходу по сходах з просто прогулкою, а випадкоаий ліс всього в 1 (!) випадку. Також робота обох моделй значно пришвидшилася бо ми знизили в 30 разів кількість рядків у  датасеті що обробляється"
   ]
  }
 ],
 "metadata": {
  "kernelspec": {
   "display_name": "Python 3",
   "language": "python",
   "name": "python3"
  },
  "language_info": {
   "codemirror_mode": {
    "name": "ipython",
    "version": 3
   },
   "file_extension": ".py",
   "mimetype": "text/x-python",
   "name": "python",
   "nbconvert_exporter": "python",
   "pygments_lexer": "ipython3",
   "version": "3.11.3"
  }
 },
 "nbformat": 4,
 "nbformat_minor": 2
}