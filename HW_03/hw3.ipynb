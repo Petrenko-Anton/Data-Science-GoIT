{
 "cells": [
  {
   "cell_type": "code",
   "execution_count": 81,
   "metadata": {},
   "outputs": [],
   "source": [
    "import numpy as np\n",
    "import pandas as pd\n",
    "import matplotlib.pyplot as plt\n",
    "from sklearn.linear_model import LinearRegression\n"
   ]
  },
  {
   "cell_type": "code",
   "execution_count": 82,
   "metadata": {},
   "outputs": [],
   "source": [
    "def LR_hypothesis(w, X):\n",
    "    \"\"\"\n",
    "    Обчислює гіпотезу лінійної регресії.\n",
    "\n",
    "    Параметри:\n",
    "    w (numpy.ndarray): Вектор параметрів (розмірність: (n+1, 1), де n - кількість ознак з урахуванням константного члена).\n",
    "    X (numpy.ndarray): Матриця ознак (розмірність: (m, n+1), де m - кількість прикладів, n - кількість ознак з урахуванням константного члена).\n",
    "\n",
    "    Повертає:\n",
    "    numpy.ndarray: Вектор прогнозованих значень (розмірність: (m, 1)).\n",
    "    \"\"\"\n",
    "    return X.dot(w)\n",
    "\n",
    "def compute_cost(w, X, y):\n",
    "    \"\"\"\n",
    "    Обчислює функцію втрат (Mean Squared Error).\n",
    "\n",
    "    Параметри:\n",
    "    w (numpy.ndarray): Вектор параметрів (розмірність: (n+1, 1), де n - кількість ознак з урахуванням константного члена).\n",
    "    X (numpy.ndarray): Матриця ознак (розмірність: (m, n+1), де m - кількість прикладів, n - кількість ознак з урахуванням константного члена).\n",
    "    y (numpy.ndarray): Вектор справжніх значень (розмірність: (m, 1)).\n",
    "\n",
    "    Повертає:\n",
    "    float: Значення функції втрат (Mean Squared Error).\n",
    "    \"\"\"\n",
    "    m = len(y)\n",
    "    predictions = LR_hypothesis(w, X)\n",
    "    cost = (1 / (2 * m)) * np.sum(np.square(predictions - y))\n",
    "    return cost\n",
    "\n",
    "def gradient_descent_step(w, X, y, learning_rate):\n",
    "    \"\"\"\n",
    "    Виконує один крок градієнтного спуску для оновлення параметрів.\n",
    "\n",
    "    Параметри:\n",
    "    w (numpy.ndarray): Вектор параметрів (розмірність: (n+1, 1), де n - кількість ознак з урахуванням константного члена).\n",
    "    X (numpy.ndarray): Матриця ознак (розмірність: (m, n+1), де m - кількість прикладів, n - кількість ознак з урахуванням константного члена).\n",
    "    y (numpy.ndarray): Вектор справжніх значень (розмірність: (m, 1)).\n",
    "    learning_rate (float): Крок навчання.\n",
    "\n",
    "    Повертає:\n",
    "    numpy.ndarray: Оновлений вектор параметрів.\n",
    "    \"\"\"\n",
    "    m = len(y)\n",
    "    predictions = LR_hypothesis(w, X)\n",
    "    errors = predictions - y\n",
    "    gradient = (1 / m) * X.T.dot(errors)\n",
    "    w -= learning_rate * gradient\n",
    "    return w\n"
   ]
  },
  {
   "cell_type": "code",
   "execution_count": 83,
   "metadata": {},
   "outputs": [],
   "source": [
    "def gradient_descent(X, y, w, learning_rate, num_iterations):\n",
    "    \"\"\"\n",
    "    Функція для багатокрокового градієнтного спуску в лінійній регресії.\n",
    "\n",
    "    Параметри:\n",
    "    X (numpy.ndarray): Матриця ознак, включаючи біас (розмірність: m x n).\n",
    "    y (numpy.ndarray): Вектор відгуків (розмірність: m x 1).\n",
    "    w (numpy.ndarray): Початкові коефіцієнти моделі, включаючи біас (розмірність: n x 1).\n",
    "    learning_rate (float): Швидкість навчання алгоритму градієнтного спуску.\n",
    "    num_iterations (int): Кількість кроків градієнтного спуску.\n",
    "\n",
    "    Повертає:\n",
    "    numpy.ndarray: Оновлені коефіцієнти моделі після кількість_кроків ітерацій.\n",
    "    \"\"\"\n",
    "    for _ in range(num_iterations):\n",
    "        w = gradient_descent_step(w, X, y, learning_rate)\n",
    "    return w"
   ]
  },
  {
   "cell_type": "code",
   "execution_count": 84,
   "metadata": {},
   "outputs": [],
   "source": [
    "houses = pd.read_csv(\"housing.csv\")\n",
    "X = houses[['area', 'bedrooms', 'bathrooms']].to_numpy()\n",
    "Y = houses.price.to_numpy()"
   ]
  },
  {
   "cell_type": "code",
   "execution_count": 85,
   "metadata": {},
   "outputs": [
    {
     "data": {
      "text/html": [
       "<div>\n",
       "<style scoped>\n",
       "    .dataframe tbody tr th:only-of-type {\n",
       "        vertical-align: middle;\n",
       "    }\n",
       "\n",
       "    .dataframe tbody tr th {\n",
       "        vertical-align: top;\n",
       "    }\n",
       "\n",
       "    .dataframe thead th {\n",
       "        text-align: right;\n",
       "    }\n",
       "</style>\n",
       "<table border=\"1\" class=\"dataframe\">\n",
       "  <thead>\n",
       "    <tr style=\"text-align: right;\">\n",
       "      <th></th>\n",
       "      <th>price</th>\n",
       "      <th>area</th>\n",
       "      <th>bedrooms</th>\n",
       "      <th>bathrooms</th>\n",
       "      <th>stories</th>\n",
       "      <th>parking</th>\n",
       "    </tr>\n",
       "  </thead>\n",
       "  <tbody>\n",
       "    <tr>\n",
       "      <th>count</th>\n",
       "      <td>5.450000e+02</td>\n",
       "      <td>545.000000</td>\n",
       "      <td>545.000000</td>\n",
       "      <td>545.000000</td>\n",
       "      <td>545.000000</td>\n",
       "      <td>545.000000</td>\n",
       "    </tr>\n",
       "    <tr>\n",
       "      <th>mean</th>\n",
       "      <td>4.766729e+06</td>\n",
       "      <td>5150.541284</td>\n",
       "      <td>2.965138</td>\n",
       "      <td>1.286239</td>\n",
       "      <td>1.805505</td>\n",
       "      <td>0.693578</td>\n",
       "    </tr>\n",
       "    <tr>\n",
       "      <th>std</th>\n",
       "      <td>1.870440e+06</td>\n",
       "      <td>2170.141023</td>\n",
       "      <td>0.738064</td>\n",
       "      <td>0.502470</td>\n",
       "      <td>0.867492</td>\n",
       "      <td>0.861586</td>\n",
       "    </tr>\n",
       "    <tr>\n",
       "      <th>min</th>\n",
       "      <td>1.750000e+06</td>\n",
       "      <td>1650.000000</td>\n",
       "      <td>1.000000</td>\n",
       "      <td>1.000000</td>\n",
       "      <td>1.000000</td>\n",
       "      <td>0.000000</td>\n",
       "    </tr>\n",
       "    <tr>\n",
       "      <th>25%</th>\n",
       "      <td>3.430000e+06</td>\n",
       "      <td>3600.000000</td>\n",
       "      <td>2.000000</td>\n",
       "      <td>1.000000</td>\n",
       "      <td>1.000000</td>\n",
       "      <td>0.000000</td>\n",
       "    </tr>\n",
       "    <tr>\n",
       "      <th>50%</th>\n",
       "      <td>4.340000e+06</td>\n",
       "      <td>4600.000000</td>\n",
       "      <td>3.000000</td>\n",
       "      <td>1.000000</td>\n",
       "      <td>2.000000</td>\n",
       "      <td>0.000000</td>\n",
       "    </tr>\n",
       "    <tr>\n",
       "      <th>75%</th>\n",
       "      <td>5.740000e+06</td>\n",
       "      <td>6360.000000</td>\n",
       "      <td>3.000000</td>\n",
       "      <td>2.000000</td>\n",
       "      <td>2.000000</td>\n",
       "      <td>1.000000</td>\n",
       "    </tr>\n",
       "    <tr>\n",
       "      <th>max</th>\n",
       "      <td>1.330000e+07</td>\n",
       "      <td>16200.000000</td>\n",
       "      <td>6.000000</td>\n",
       "      <td>4.000000</td>\n",
       "      <td>4.000000</td>\n",
       "      <td>3.000000</td>\n",
       "    </tr>\n",
       "  </tbody>\n",
       "</table>\n",
       "</div>"
      ],
      "text/plain": [
       "              price          area    bedrooms   bathrooms     stories  \\\n",
       "count  5.450000e+02    545.000000  545.000000  545.000000  545.000000   \n",
       "mean   4.766729e+06   5150.541284    2.965138    1.286239    1.805505   \n",
       "std    1.870440e+06   2170.141023    0.738064    0.502470    0.867492   \n",
       "min    1.750000e+06   1650.000000    1.000000    1.000000    1.000000   \n",
       "25%    3.430000e+06   3600.000000    2.000000    1.000000    1.000000   \n",
       "50%    4.340000e+06   4600.000000    3.000000    1.000000    2.000000   \n",
       "75%    5.740000e+06   6360.000000    3.000000    2.000000    2.000000   \n",
       "max    1.330000e+07  16200.000000    6.000000    4.000000    4.000000   \n",
       "\n",
       "          parking  \n",
       "count  545.000000  \n",
       "mean     0.693578  \n",
       "std      0.861586  \n",
       "min      0.000000  \n",
       "25%      0.000000  \n",
       "50%      0.000000  \n",
       "75%      1.000000  \n",
       "max      3.000000  "
      ]
     },
     "execution_count": 85,
     "metadata": {},
     "output_type": "execute_result"
    }
   ],
   "source": [
    "houses.describe()"
   ]
  },
  {
   "cell_type": "code",
   "execution_count": 86,
   "metadata": {},
   "outputs": [],
   "source": [
    "def normalize_features(X):\n",
    "    mean = np.mean(X, axis=0)\n",
    "    std = np.std(X, axis=0)\n",
    "    \n",
    "    std[std == 0] = 1\n",
    "    \n",
    "    normalized_X = (X - mean) / std\n",
    "    return normalized_X, mean, std"
   ]
  },
  {
   "cell_type": "code",
   "execution_count": 87,
   "metadata": {},
   "outputs": [],
   "source": [
    "X_n, mean, std = normalize_features(X)"
   ]
  },
  {
   "cell_type": "code",
   "execution_count": 88,
   "metadata": {},
   "outputs": [
    {
     "name": "stdout",
     "output_type": "stream",
     "text": [
      "[3.78762754e+02 4.06820034e+05 1.38604950e+06]\n"
     ]
    }
   ],
   "source": [
    "n = X.shape[1]\n",
    "W = np.random.randn(n)\n",
    "learned_W = gradient_descent(X_n, Y, W, 0.01, 10000)\n",
    "coeffs = learned_W / std # un-normalize\n",
    "print (coeffs)"
   ]
  },
  {
   "cell_type": "code",
   "execution_count": 89,
   "metadata": {},
   "outputs": [
    {
     "data": {
      "text/plain": [
       "array([3.72448352e+02, 3.68974672e+05, 1.37031315e+06])"
      ]
     },
     "execution_count": 89,
     "metadata": {},
     "output_type": "execute_result"
    }
   ],
   "source": [
    "analitical_W = np.linalg.pinv(X.T @ X) @ X.T @ Y\n",
    "analitical_W"
   ]
  },
  {
   "cell_type": "code",
   "execution_count": 91,
   "metadata": {},
   "outputs": [
    {
     "name": "stdout",
     "output_type": "stream",
     "text": [
      "Коефіцієнти ознак, знайдені метододом градієнтного спуску(area, bedrooms, bathrooms): [3.78762754e+02 4.06820034e+05 1.38604950e+06]\n",
      "Коефіцієнти ознак, знайдені аналітичним методом (area, bedrooms, bathrooms): [3.72448352e+02 3.68974672e+05 1.37031315e+06]\n"
     ]
    }
   ],
   "source": [
    "print(f\"Коефіцієнти ознак, знайдені метододом градієнтного спуску(area, bedrooms, bathrooms): {coeffs}\")\n",
    "print(f\"Коефіцієнти ознак, знайдені аналітичним методом (area, bedrooms, bathrooms): {analitical_W}\")"
   ]
  }
 ],
 "metadata": {
  "kernelspec": {
   "display_name": "Python 3",
   "language": "python",
   "name": "python3"
  },
  "language_info": {
   "codemirror_mode": {
    "name": "ipython",
    "version": 3
   },
   "file_extension": ".py",
   "mimetype": "text/x-python",
   "name": "python",
   "nbconvert_exporter": "python",
   "pygments_lexer": "ipython3",
   "version": "3.11.3"
  }
 },
 "nbformat": 4,
 "nbformat_minor": 2
}
